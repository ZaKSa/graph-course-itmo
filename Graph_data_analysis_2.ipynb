{
  "nbformat": 4,
  "nbformat_minor": 0,
  "metadata": {
    "colab": {
      "provenance": [],
      "authorship_tag": "ABX9TyONzXkhNf/XrO50WVadgTt2"
    },
    "kernelspec": {
      "name": "python3",
      "display_name": "Python 3"
    },
    "language_info": {
      "name": "python"
    }
  },
  "cells": [
    {
      "cell_type": "code",
      "source": [
        "!pip install python-graphblas[default]\n",
        "!pip install metagraph"
      ],
      "metadata": {
        "colab": {
          "base_uri": "https://localhost:8080/"
        },
        "id": "HXkGdoZh3L8Q",
        "outputId": "e0b9f28c-b65e-4ab9-9859-468666e1396f"
      },
      "execution_count": 1,
      "outputs": [
        {
          "output_type": "stream",
          "name": "stdout",
          "text": [
            "Collecting python-graphblas[default]\n",
            "  Downloading python_graphblas-2024.2.0-py3-none-any.whl (350 kB)\n",
            "\u001b[2K     \u001b[90m━━━━━━━━━━━━━━━━━━━━━━━━━━━━━━━━━━━━━━━━\u001b[0m \u001b[32m350.9/350.9 kB\u001b[0m \u001b[31m4.5 MB/s\u001b[0m eta \u001b[36m0:00:00\u001b[0m\n",
            "\u001b[?25hRequirement already satisfied: numpy>=1.22 in /usr/local/lib/python3.10/dist-packages (from python-graphblas[default]) (1.25.2)\n",
            "Collecting donfig>=0.6 (from python-graphblas[default])\n",
            "  Downloading donfig-0.8.1.post0-py3-none-any.whl (24 kB)\n",
            "Requirement already satisfied: pyyaml>=5.4 in /usr/local/lib/python3.10/dist-packages (from python-graphblas[default]) (6.0.1)\n",
            "Collecting suitesparse-graphblas<9,>=7.4.0.0 (from python-graphblas[default])\n",
            "  Downloading suitesparse_graphblas-8.2.1.0-cp310-cp310-manylinux_2_17_x86_64.manylinux2014_x86_64.whl (45.7 MB)\n",
            "\u001b[2K     \u001b[90m━━━━━━━━━━━━━━━━━━━━━━━━━━━━━━━━━━━━━━━━\u001b[0m \u001b[32m45.7/45.7 MB\u001b[0m \u001b[31m2.2 MB/s\u001b[0m eta \u001b[36m0:00:00\u001b[0m\n",
            "\u001b[?25hRequirement already satisfied: numba>=0.55 in /usr/local/lib/python3.10/dist-packages (from python-graphblas[default]) (0.58.1)\n",
            "Requirement already satisfied: llvmlite<0.42,>=0.41.0dev0 in /usr/local/lib/python3.10/dist-packages (from numba>=0.55->python-graphblas[default]) (0.41.1)\n",
            "Requirement already satisfied: cffi>=1.11 in /usr/local/lib/python3.10/dist-packages (from suitesparse-graphblas<9,>=7.4.0.0->python-graphblas[default]) (1.16.0)\n",
            "Requirement already satisfied: scipy>=1.9 in /usr/local/lib/python3.10/dist-packages (from python-graphblas[default]) (1.11.4)\n",
            "Requirement already satisfied: pandas>=1.2 in /usr/local/lib/python3.10/dist-packages (from python-graphblas[default]) (2.0.3)\n",
            "Requirement already satisfied: pycparser in /usr/local/lib/python3.10/dist-packages (from cffi>=1.11->suitesparse-graphblas<9,>=7.4.0.0->python-graphblas[default]) (2.22)\n",
            "Requirement already satisfied: python-dateutil>=2.8.2 in /usr/local/lib/python3.10/dist-packages (from pandas>=1.2->python-graphblas[default]) (2.8.2)\n",
            "Requirement already satisfied: pytz>=2020.1 in /usr/local/lib/python3.10/dist-packages (from pandas>=1.2->python-graphblas[default]) (2023.4)\n",
            "Requirement already satisfied: tzdata>=2022.1 in /usr/local/lib/python3.10/dist-packages (from pandas>=1.2->python-graphblas[default]) (2024.1)\n",
            "Requirement already satisfied: six>=1.5 in /usr/local/lib/python3.10/dist-packages (from python-dateutil>=2.8.2->pandas>=1.2->python-graphblas[default]) (1.16.0)\n",
            "Installing collected packages: donfig, suitesparse-graphblas, python-graphblas\n",
            "Successfully installed donfig-0.8.1.post0 python-graphblas-2024.2.0 suitesparse-graphblas-8.2.1.0\n",
            "Collecting metagraph\n",
            "  Downloading metagraph-0.2.6-py3-none-any.whl (190 kB)\n",
            "\u001b[2K     \u001b[90m━━━━━━━━━━━━━━━━━━━━━━━━━━━━━━━━━━━━━━━━\u001b[0m \u001b[32m190.2/190.2 kB\u001b[0m \u001b[31m4.1 MB/s\u001b[0m eta \u001b[36m0:00:00\u001b[0m\n",
            "\u001b[?25hRequirement already satisfied: numpy in /usr/local/lib/python3.10/dist-packages (from metagraph) (1.25.2)\n",
            "Requirement already satisfied: scipy in /usr/local/lib/python3.10/dist-packages (from metagraph) (1.11.4)\n",
            "Requirement already satisfied: donfig in /usr/local/lib/python3.10/dist-packages (from metagraph) (0.8.1.post0)\n",
            "Requirement already satisfied: networkx in /usr/local/lib/python3.10/dist-packages (from metagraph) (3.3)\n",
            "Requirement already satisfied: pandas in /usr/local/lib/python3.10/dist-packages (from metagraph) (2.0.3)\n",
            "Requirement already satisfied: python-louvain in /usr/local/lib/python3.10/dist-packages (from metagraph) (0.16)\n",
            "Requirement already satisfied: nest-asyncio in /usr/local/lib/python3.10/dist-packages (from metagraph) (1.6.0)\n",
            "Requirement already satisfied: dask[array,dataframe,delayed] in /usr/local/lib/python3.10/dist-packages (from metagraph) (2023.8.1)\n",
            "Requirement already satisfied: graphviz in /usr/local/lib/python3.10/dist-packages (from metagraph) (0.20.3)\n",
            "Requirement already satisfied: click>=8.0 in /usr/local/lib/python3.10/dist-packages (from dask[array,dataframe,delayed]->metagraph) (8.1.7)\n",
            "Requirement already satisfied: cloudpickle>=1.5.0 in /usr/local/lib/python3.10/dist-packages (from dask[array,dataframe,delayed]->metagraph) (2.2.1)\n",
            "Requirement already satisfied: fsspec>=2021.09.0 in /usr/local/lib/python3.10/dist-packages (from dask[array,dataframe,delayed]->metagraph) (2023.6.0)\n",
            "Requirement already satisfied: packaging>=20.0 in /usr/local/lib/python3.10/dist-packages (from dask[array,dataframe,delayed]->metagraph) (24.0)\n",
            "Requirement already satisfied: partd>=1.2.0 in /usr/local/lib/python3.10/dist-packages (from dask[array,dataframe,delayed]->metagraph) (1.4.2)\n",
            "Requirement already satisfied: pyyaml>=5.3.1 in /usr/local/lib/python3.10/dist-packages (from dask[array,dataframe,delayed]->metagraph) (6.0.1)\n",
            "Requirement already satisfied: toolz>=0.10.0 in /usr/local/lib/python3.10/dist-packages (from dask[array,dataframe,delayed]->metagraph) (0.12.1)\n",
            "Requirement already satisfied: importlib-metadata>=4.13.0 in /usr/local/lib/python3.10/dist-packages (from dask[array,dataframe,delayed]->metagraph) (7.1.0)\n",
            "Requirement already satisfied: python-dateutil>=2.8.2 in /usr/local/lib/python3.10/dist-packages (from pandas->metagraph) (2.8.2)\n",
            "Requirement already satisfied: pytz>=2020.1 in /usr/local/lib/python3.10/dist-packages (from pandas->metagraph) (2023.4)\n",
            "Requirement already satisfied: tzdata>=2022.1 in /usr/local/lib/python3.10/dist-packages (from pandas->metagraph) (2024.1)\n",
            "Requirement already satisfied: zipp>=0.5 in /usr/local/lib/python3.10/dist-packages (from importlib-metadata>=4.13.0->dask[array,dataframe,delayed]->metagraph) (3.18.1)\n",
            "Requirement already satisfied: locket in /usr/local/lib/python3.10/dist-packages (from partd>=1.2.0->dask[array,dataframe,delayed]->metagraph) (1.0.0)\n",
            "Requirement already satisfied: six>=1.5 in /usr/local/lib/python3.10/dist-packages (from python-dateutil>=2.8.2->pandas->metagraph) (1.16.0)\n",
            "Installing collected packages: metagraph\n",
            "Successfully installed metagraph-0.2.6\n"
          ]
        }
      ]
    },
    {
      "cell_type": "code",
      "source": [
        "import graphblas as gb\n",
        "from metagraph import concrete_algorithm, NodeID\n",
        "from metagraph.plugins import has_grblas\n",
        "from metagraph.plugins.core import exceptions\n",
        "from typing import Tuple, Iterable, Any, Union, Optional\n",
        "import numpy as np\n",
        "\n",
        "gb.init(\"suitesparse\", blocking=False)\n",
        "\n",
        "from graphblas import Matrix, dtypes, unary, binary, monoid, semiring, Recorder\n",
        "from graphblas.io import mmread"
      ],
      "metadata": {
        "id": "PSdyp2n43LcI"
      },
      "execution_count": 54,
      "outputs": []
    },
    {
      "cell_type": "code",
      "source": [
        "# Create initial data objects\n",
        "edges = [\n",
        "    [3, 0, 3, 5, 6, 0, 6, 1, 6, 2, 4, 1],\n",
        "    [0, 1, 2, 2, 2, 3, 3, 4, 4, 5, 5, 6],\n",
        "]\n",
        "A = Matrix.from_coo(edges[0], edges[1], [True for _ in edges[0]])\n",
        "A"
      ],
      "metadata": {
        "id": "uTilov6K3xMp",
        "colab": {
          "base_uri": "https://localhost:8080/",
          "height": 341
        },
        "outputId": "c70862fd-2e06-43fe-8623-dd604bf5216d"
      },
      "execution_count": 85,
      "outputs": [
        {
          "output_type": "execute_result",
          "data": {
            "text/plain": [
              "\"M_125\"    nvals  nrows  ncols  dtype         format\n",
              "gb.Matrix     12      7      7   BOOL  bitmapr (iso)\n",
              "----------------------------------------------------\n",
              "      0     1     2     3     4     5     6\n",
              "0        True        True                  \n",
              "1                          True        True\n",
              "2                                True      \n",
              "3  True        True                        \n",
              "4                                True      \n",
              "5              True                        \n",
              "6              True  True  True            "
            ],
            "text/html": [
              "<div>\n",
              "<style>\n",
              "table.gb-info-table {\n",
              "    border: 1px solid black;\n",
              "    max-width: 100%;\n",
              "    margin-top: 0px;\n",
              "    margin-bottom: 0px;\n",
              "    padding-top: 0px;\n",
              "    padding-bottom: 0px;\n",
              "}\n",
              "\n",
              "td.gb-info-name-cell {\n",
              "    white-space: nowrap;\n",
              "}\n",
              "\n",
              "details.gb-arg-details {\n",
              "    margin-top: 0px;\n",
              "    margin-bottom: 0px;\n",
              "    padding-top: 0px;\n",
              "    padding-bottom: 5px;\n",
              "    margin-left: 10px;\n",
              "}\n",
              "\n",
              "summary.gb-arg-summary {\n",
              "    display: list-item;\n",
              "    outline: none;\n",
              "    margin-top: 0px;\n",
              "    margin-bottom: 0px;\n",
              "    padding-top: 0px;\n",
              "    padding-bottom: 0px;\n",
              "    margin-left: -10px;\n",
              "}\n",
              "\n",
              "details.gb-expr-details {\n",
              "    margin-top: 0px;\n",
              "    margin-bottom: 0px;\n",
              "    padding-top: 0px;\n",
              "    padding-bottom: 5px;\n",
              "}\n",
              "\n",
              "summary.gb-expr-summary {\n",
              "    display: list-item;\n",
              "    outline: none;\n",
              "    margin-top: 0px;\n",
              "    margin-bottom: 0px;\n",
              "    padding-top: 0px;\n",
              "    padding-bottom: 0px;\n",
              "}\n",
              "\n",
              "blockquote.gb-expr-blockquote {\n",
              "    margin-top: 5px;\n",
              "    margin-bottom: 0px;\n",
              "    padding-top: 0px;\n",
              "    padding-bottom: 0px;\n",
              "    margin-left: 15px;\n",
              "}\n",
              "\n",
              ".gb-scalar {\n",
              "    margin-top: 0px;\n",
              "    margin-bottom: 0px;\n",
              "    padding-top: 0px;\n",
              "    padding-bottom: 5px;\n",
              "}\n",
              "\n",
              "/* modify pandas dataframe */\n",
              "table.dataframe {\n",
              "    margin-top: 0px;\n",
              "    margin-bottom: 0px;\n",
              "    padding-top: 0px;\n",
              "    padding-bottom: 0px;\n",
              "}\n",
              "\n",
              "/* expression tooltips */\n",
              ".expr-tooltip .tooltip-circle {\n",
              "    background: #9a9cc6;\n",
              "    color: #fff;\n",
              "    border-radius: 50%;\n",
              "    width: 40px;\n",
              "    height: 40px;\n",
              "    padding-left: 4px;\n",
              "    padding-right: 4px;\n",
              "}\n",
              ".expr-tooltip .tooltip-text {\n",
              "    visibility: hidden;\n",
              "    position: absolute;\n",
              "    width: 450px;\n",
              "    background: #eef;\n",
              "    border: 1px solid #99a;\n",
              "    text-align: left;\n",
              "    border-radius: 6px;\n",
              "    padding: 3px 3px 3px 8px;\n",
              "    margin-left: 6px;\n",
              "}\n",
              ".expr-tooltip:hover .tooltip-text {\n",
              "    visibility: visible;\n",
              "}\n",
              ".expr-tooltip code {\n",
              "    background-color: #f8ffed;\n",
              "}\n",
              "</style>\n",
              "<details open class=\"gb-arg-details\"><summary class=\"gb-arg-summary\"><tt>M<sub>125</sub></tt><div>\n",
              "<table class=\"gb-info-table\">\n",
              "  <tr>\n",
              "    <td rowspan=\"2\" class=\"gb-info-name-cell\"><pre>gb.Matrix</pre></td>\n",
              "    <td><pre>nvals</pre></td>\n",
              "    <td><pre>nrows</pre></td>\n",
              "    <td><pre>ncols</pre></td>\n",
              "    <td><pre>dtype</pre></td>\n",
              "    <td><pre>format</pre></td>\n",
              "  </tr>\n",
              "  <tr>\n",
              "    <td>12</td>\n",
              "    <td>7</td>\n",
              "    <td>7</td>\n",
              "    <td>BOOL</td>\n",
              "    <td>bitmapr (iso)</td>\n",
              "  </tr>\n",
              "</table>\n",
              "</div>\n",
              "</summary><div>\n",
              "<style scoped>\n",
              "    .dataframe tbody tr th:only-of-type {\n",
              "        vertical-align: middle;\n",
              "    }\n",
              "\n",
              "    .dataframe tbody tr th {\n",
              "        vertical-align: top;\n",
              "    }\n",
              "\n",
              "    .dataframe thead th {\n",
              "        text-align: right;\n",
              "    }\n",
              "</style>\n",
              "<table border=\"1\" class=\"dataframe\">\n",
              "  <thead>\n",
              "    <tr style=\"text-align: right;\">\n",
              "      <th></th>\n",
              "      <th>0</th>\n",
              "      <th>1</th>\n",
              "      <th>2</th>\n",
              "      <th>3</th>\n",
              "      <th>4</th>\n",
              "      <th>5</th>\n",
              "      <th>6</th>\n",
              "    </tr>\n",
              "  </thead>\n",
              "  <tbody>\n",
              "    <tr>\n",
              "      <th>0</th>\n",
              "      <td></td>\n",
              "      <td>True</td>\n",
              "      <td></td>\n",
              "      <td>True</td>\n",
              "      <td></td>\n",
              "      <td></td>\n",
              "      <td></td>\n",
              "    </tr>\n",
              "    <tr>\n",
              "      <th>1</th>\n",
              "      <td></td>\n",
              "      <td></td>\n",
              "      <td></td>\n",
              "      <td></td>\n",
              "      <td>True</td>\n",
              "      <td></td>\n",
              "      <td>True</td>\n",
              "    </tr>\n",
              "    <tr>\n",
              "      <th>2</th>\n",
              "      <td></td>\n",
              "      <td></td>\n",
              "      <td></td>\n",
              "      <td></td>\n",
              "      <td></td>\n",
              "      <td>True</td>\n",
              "      <td></td>\n",
              "    </tr>\n",
              "    <tr>\n",
              "      <th>3</th>\n",
              "      <td>True</td>\n",
              "      <td></td>\n",
              "      <td>True</td>\n",
              "      <td></td>\n",
              "      <td></td>\n",
              "      <td></td>\n",
              "      <td></td>\n",
              "    </tr>\n",
              "    <tr>\n",
              "      <th>4</th>\n",
              "      <td></td>\n",
              "      <td></td>\n",
              "      <td></td>\n",
              "      <td></td>\n",
              "      <td></td>\n",
              "      <td>True</td>\n",
              "      <td></td>\n",
              "    </tr>\n",
              "    <tr>\n",
              "      <th>5</th>\n",
              "      <td></td>\n",
              "      <td></td>\n",
              "      <td>True</td>\n",
              "      <td></td>\n",
              "      <td></td>\n",
              "      <td></td>\n",
              "      <td></td>\n",
              "    </tr>\n",
              "    <tr>\n",
              "      <th>6</th>\n",
              "      <td></td>\n",
              "      <td></td>\n",
              "      <td>True</td>\n",
              "      <td>True</td>\n",
              "      <td>True</td>\n",
              "      <td></td>\n",
              "      <td></td>\n",
              "    </tr>\n",
              "  </tbody>\n",
              "</table>\n",
              "</div></details></div>"
            ]
          },
          "metadata": {},
          "execution_count": 85
        }
      ]
    },
    {
      "cell_type": "markdown",
      "source": [
        "![image.png](data:image/png;base64,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)"
      ],
      "metadata": {
        "id": "GFoFalOd4o_X"
      }
    },
    {
      "cell_type": "markdown",
      "source": [
        "N=7, starts=[0,2,3], len(starts)=3\n",
        "F[0, 0]=1\n",
        "F[1,2]=1\n",
        "F[2,3]=1\n"
      ],
      "metadata": {
        "id": "KoXQUuOs4sBm"
      }
    },
    {
      "cell_type": "markdown",
      "source": [
        " * Используя python-graphblas реализовать функцию обхода ориентированного графа (MSBFS-Levels) в ширину из нескольких заданных стартовых вершин.\n",
        "  * Функция принимает представление графа, удобное для неё (загрузка, конвертация реализованы отдельно) и массив номеров стартовых вершин.\n",
        "  * Функция возвращает массив пар: стартовая вершина, и массив (levels), где для каждой вершины указано, на каком уровне она достижима из этой стартовой. Стартовая вершина достижима на нулевом уровне, если вершина не достижима, то значение соответствующей ячейки сделайте равной -1.\n"
      ],
      "metadata": {
        "id": "XqFPyVkOWZMw"
      }
    },
    {
      "cell_type": "code",
      "source": [
        "vertices=[0, 2, 3]"
      ],
      "metadata": {
        "id": "Fy5xazQGQNdt"
      },
      "execution_count": 4,
      "outputs": []
    },
    {
      "cell_type": "code",
      "source": [
        "def MSFBS_levels(A, vertices):\n",
        "    n = A.nrows\n",
        "    result = gb.Matrix(int, len(vertices), n)  # vector for result with levels\n",
        "\n",
        "    #колво столбцов = колво верщин графа, колво строк = колво стартовых вершин\n",
        "    f = gb.Matrix(int, len(vertices), n)  # frontier\n",
        "\n",
        "    for i in range (len(vertices)):\n",
        "        f[i, vertices[i]]<< True #создать пустую матрицу и проставить единички в цикле\n",
        "\n",
        "    succ =Vector(bool,len(vertices))\n",
        "    #matrix = gb.Matrix.from_vectors([f1, f2, f3])\n",
        "    level = 0  # level in BFS traversal\n",
        "    while True:\n",
        "        i=0\n",
        "        # For the frontier, assign the depth level\n",
        "        result(f.V) << level\n",
        "        # Compute the next frontier, masking out anything already assigned\n",
        "        f(~result.S, replace=True) << f.mxm(A, semiring.lor_land)\n",
        "\n",
        "        # If next frontier is empty, we're done\n",
        "        succ << f.reduce_rowwise(monoid.lor)\n",
        "        level += 1\n",
        "        i+=1\n",
        "        if succ.nvals == 0:\n",
        "            break\n",
        "    output = []\n",
        "    for i, vertex in enumerate(vertices):\n",
        "        levels = []\n",
        "        for j in range(n):\n",
        "            levels.append(result[i, j].value if result[i, j].value != None or j == vertex else -1)\n",
        "        output.append((vertex, levels))\n",
        "\n",
        "    # Print the result matrix\n",
        "    return output\n",
        "MSFBS_levels(A, vertices)"
      ],
      "metadata": {
        "colab": {
          "base_uri": "https://localhost:8080/"
        },
        "id": "1zybehNpNh5Z",
        "outputId": "a8594b07-62ee-4db9-ca04-fca8badff9a3"
      },
      "execution_count": 86,
      "outputs": [
        {
          "output_type": "execute_result",
          "data": {
            "text/plain": [
              "[(0, [0, 1, 2, 1, 2, 3, 2]),\n",
              " (2, [-1, -1, 0, -1, -1, 1, -1]),\n",
              " (3, [1, 2, 1, 0, 3, 2, 3])]"
            ]
          },
          "metadata": {},
          "execution_count": 86
        }
      ]
    },
    {
      "cell_type": "markdown",
      "source": [
        "* Используя python-graphblas реализовать функцию обхода ориентированного графа (MSBFS-Parents) в ширину из нескольких заданных стартовых вершин.\n",
        "  * Функция принимает представление графа, удобное для неё (загрузка, конвертация реализованы отдельно) и массив номеров стартовых вершин.\n",
        "  * Функция возвращает массив пар: стартовая вершина, и массив (parents), где для каждой вершины графа указано, из какой вершины мы пришли в эту по кратчайшему пути из стартовой вершины. При этом для самой стартовой вершины такое значение взять равное -1, а для недостижимых вершин взять равное -2. При наличии нескольких возможных значений в массивах parents брать наименьшее.\n"
      ],
      "metadata": {
        "id": "IY76zE0-XP_Y"
      }
    },
    {
      "cell_type": "code",
      "source": [
        "#def MSFBS_parents(A, vertices):\n",
        "#  pass\n",
        "#N = A.nrows\n",
        "#index_ramp = Vector(dtypes.UINT64, N)\n",
        "#index_ramp.build(range(N), range(N))\n",
        "#\n",
        "#\n",
        "#parents = gb.Matrix(int, len(vertices), N)\n",
        "#for i in range (len(vertices)):\n",
        "#    parents[i, vertices[i]]<<-1\n",
        "#wavefront = gb.Matrix(int, len(vertices), N)\n",
        "#for i in range (len(vertices)):\n",
        "#    wavefront [i, vertices[i]]<<1\n",
        "#\n",
        "#while wavefront.nvals > 0:\n",
        "#    i=0\n",
        "#    # Convert all stored values in wavefront to their 0-based index\n",
        "#    wavefront = index_ramp.ewise_mult(wavefront, binary.first)\n",
        "#\n",
        "#    # “FIRST” because left-multiplying wavefront rows. Masking out the parent\n",
        "#    # list ensures wavefront values do not overwrite parents already stored.\n",
        "#\n",
        "#    wavefront(~parents.S, replace=True) << wavefront.mxm(A, semiring.min_first)\n",
        "#\n",
        "#    # Don’t need to mask here since we did it in mxm. Merges new parents in\n",
        "#    # current wave front with existing parents : parents += wavefront\n",
        "#    parents[binary.plus] = wavefront\n",
        "#    i+=1\n",
        "#parents"
      ],
      "metadata": {
        "id": "6g3sGhdRrMeG"
      },
      "execution_count": null,
      "outputs": []
    },
    {
      "cell_type": "code",
      "source": [
        "def MSFBS_parents(A, vertices):\n",
        "  N = A.nrows\n",
        "  index_ramp = Vector(dtypes.UINT64, N)\n",
        "  index_ramp.build(range(N), range(N))\n",
        "  output = []\n",
        "  for vertex in vertices:\n",
        "    parents = Vector(dtypes.INT64, N)\n",
        "    parents[vertex] << -1\n",
        "    wavefront = Vector(dtypes.INT64, N)\n",
        "    wavefront[vertex] << 1\n",
        "    while wavefront.nvals > 0:\n",
        "      wavefront << index_ramp.ewise_mult(wavefront, binary.first)\n",
        "      wavefront(~parents.S, replace=True) << wavefront.vxm(A, semiring.min_first)\n",
        "      parents(binary.plus) << wavefront\n",
        "    output.append((vertex, [parents.get(i, default=-2) for i in range(N)]))\n",
        "  return output"
      ],
      "metadata": {
        "id": "6u0Z-a3arhnl"
      },
      "execution_count": 42,
      "outputs": []
    },
    {
      "cell_type": "code",
      "source": [
        "MSFBS_parents(A, vertices)"
      ],
      "metadata": {
        "colab": {
          "base_uri": "https://localhost:8080/"
        },
        "id": "Zf4u2kfytvWO",
        "outputId": "94935fe2-3971-4d7e-826b-93e6f1fd8d48"
      },
      "execution_count": 43,
      "outputs": [
        {
          "output_type": "execute_result",
          "data": {
            "text/plain": [
              "[(1, [3, -1, 6, 6, 1, 4, 1]),\n",
              " (2, [-2, -2, -1, -2, -2, 2, -2]),\n",
              " (3, [3, 0, 3, -1, 1, 2, 1])]"
            ]
          },
          "metadata": {},
          "execution_count": 43
        }
      ]
    },
    {
      "cell_type": "markdown",
      "source": [
        " * (+2 балла) Провести экспериментальное исследование полученных реализаций на некоторых больших графах в формате Matrix Market с сайта SuiteSparse Matrix Collection и на случайных сгенерированных. При этом описать зависимость времени работы всех полученных реализаций от размеров графа, его степени разреженности, количестве стартовых вершин.\n"
      ],
      "metadata": {
        "id": "WuJtftz1XU6Z"
      }
    },
    {
      "cell_type": "code",
      "source": [
        "M1 = mmread('/content/sample_data/Untitled Folder/Erdos02.mtx')\n",
        "M2 = mmread('/content/sample_data/Untitled Folder/Erdos972.mtx')\n",
        "M3 = mmread('/content/sample_data/Untitled Folder/Erdos982.mtx')\n",
        "M4 = mmread('/content/sample_data/Untitled Folder/Erdos992.mtx')\n",
        "M5 = mmread('/content/sample_data/Untitled Folder/delaunay_n11.mtx')#/content/sample_data/Untitled Folder/ca-AstroPh.mtx\n",
        "M6 = mmread('/content/sample_data/Untitled Folder/ca-CondMat.mtx')\n",
        "M7 = mmread('/content/sample_data/Untitled Folder/delaunay_n13.mtx')\n",
        "M8 = mmread('/content/sample_data/Untitled Folder/delaunay_n14.mtx')\n",
        "M9 = mmread('/content/sample_data/Untitled Folder/delaunay_n12.mtx')#/content/sample_data/Untitled Folder/dblp-2010.mtx\n",
        "M10 = mmread('/content/sample_data/Untitled Folder/delaunay_n15.mtx')"
      ],
      "metadata": {
        "id": "5Nfy5HKjXW_d"
      },
      "execution_count": 67,
      "outputs": []
    },
    {
      "cell_type": "code",
      "source": [
        "M=[M1, M2, M3,M4,M5,M6,M7,M8,M9,M10]"
      ],
      "metadata": {
        "id": "ft0ORCC37NuE"
      },
      "execution_count": 72,
      "outputs": []
    },
    {
      "cell_type": "code",
      "source": [
        "import random\n",
        "def generate_random_graph(n, fill_count):\n",
        "    # n -количество вершин, fill_count - степень разреженности\n",
        "    m = gb.Matrix(int, n, n) #пустая матрица\n",
        "    while fill_count > 0:\n",
        "        i = random.randint(0, n-1)\n",
        "        j = random.randint(0, n-1)\n",
        "        if m.get(i,j) is None and i!= j: #если не пустое место, то ставим симметричную 1\n",
        "            m[i,j] << True\n",
        "            m[j,i] << True\n",
        "            fill_count -= 1\n",
        "    return m"
      ],
      "metadata": {
        "id": "fL4vki6a8Gh9"
      },
      "execution_count": 98,
      "outputs": []
    },
    {
      "cell_type": "code",
      "source": [
        "import time\n",
        "sizes = [100,1000, 5000, 10000, 99999]\n",
        "\n",
        "for size in sizes:\n",
        "  sparsities = [size - 1, 10, size // 2] #неразреженная матрица, разреженная, и 50/50\n",
        "  for sparsity in sparsities:\n",
        "    vertices_ = [list(range(size - 1)), list(range(10)), list(range(size // 2))]\n",
        "    for vertices in vertices_:\n",
        "        start = time.time()\n",
        "        MSFBS_levels(generate_random_graph(size, sparsity), vertices)\n",
        "        print(f\"Time {len(vertices)} vertices, size {size} and sparsity {sparsity} is {time.time() - start}s\")"
      ],
      "metadata": {
        "colab": {
          "base_uri": "https://localhost:8080/",
          "height": 807
        },
        "id": "al9jdFLO-8Ue",
        "outputId": "269af576-4b40-4912-8fef-67b8c1e2c0d8"
      },
      "execution_count": 101,
      "outputs": [
        {
          "output_type": "stream",
          "name": "stdout",
          "text": [
            "Time 99 vertices, size 100 and sparsity 99 is 0.6720187664031982s\n",
            "Time 10 vertices, size 100 and sparsity 99 is 0.0820150375366211s\n",
            "Time 50 vertices, size 100 and sparsity 99 is 0.37347984313964844s\n",
            "Time 99 vertices, size 100 and sparsity 10 is 0.38878965377807617s\n",
            "Time 10 vertices, size 100 and sparsity 10 is 0.04724764823913574s\n",
            "Time 50 vertices, size 100 and sparsity 10 is 0.20386147499084473s\n",
            "Time 99 vertices, size 100 and sparsity 50 is 0.401613712310791s\n",
            "Time 10 vertices, size 100 and sparsity 50 is 0.04850625991821289s\n",
            "Time 50 vertices, size 100 and sparsity 50 is 0.234297513961792s\n",
            "Time 999 vertices, size 1000 and sparsity 999 is 81.53321075439453s\n",
            "Time 10 vertices, size 1000 and sparsity 999 is 0.8923830986022949s\n",
            "Time 500 vertices, size 1000 and sparsity 999 is 51.03952622413635s\n",
            "Time 999 vertices, size 1000 and sparsity 10 is 49.44706845283508s\n",
            "Time 10 vertices, size 1000 and sparsity 10 is 0.7170217037200928s\n",
            "Time 500 vertices, size 1000 and sparsity 10 is 24.05813431739807s\n",
            "Time 999 vertices, size 1000 and sparsity 500 is 53.91261601448059s\n",
            "Time 10 vertices, size 1000 and sparsity 500 is 0.494891881942749s\n",
            "Time 500 vertices, size 1000 and sparsity 500 is 22.27006244659424s\n",
            "Time 4999 vertices, size 5000 and sparsity 4999 is 1948.2383825778961s\n",
            "Time 10 vertices, size 5000 and sparsity 4999 is 6.1202733516693115s\n",
            "Time 2500 vertices, size 5000 and sparsity 4999 is 961.5176694393158s\n",
            "Time 4999 vertices, size 5000 and sparsity 10 is 1089.63321185112s\n",
            "Time 10 vertices, size 5000 and sparsity 10 is 1.9110276699066162s\n",
            "Time 2500 vertices, size 5000 and sparsity 10 is 531.6410863399506s\n",
            "Time 4999 vertices, size 5000 and sparsity 2500 is 1058.4843378067017s\n",
            "Time 10 vertices, size 5000 and sparsity 2500 is 3.5645692348480225s\n",
            "Time 2500 vertices, size 5000 and sparsity 2500 is 515.1373088359833s\n"
          ]
        },
        {
          "output_type": "error",
          "ename": "KeyboardInterrupt",
          "evalue": "",
          "traceback": [
            "\u001b[0;31m---------------------------------------------------------------------------\u001b[0m",
            "\u001b[0;31mKeyboardInterrupt\u001b[0m                         Traceback (most recent call last)",
            "\u001b[0;32m<ipython-input-101-a74a68fd819a>\u001b[0m in \u001b[0;36m<cell line: 4>\u001b[0;34m()\u001b[0m\n\u001b[1;32m      8\u001b[0m     \u001b[0;32mfor\u001b[0m \u001b[0mvertices\u001b[0m \u001b[0;32min\u001b[0m \u001b[0mvertices_\u001b[0m\u001b[0;34m:\u001b[0m\u001b[0;34m\u001b[0m\u001b[0;34m\u001b[0m\u001b[0m\n\u001b[1;32m      9\u001b[0m         \u001b[0mstart\u001b[0m \u001b[0;34m=\u001b[0m \u001b[0mtime\u001b[0m\u001b[0;34m.\u001b[0m\u001b[0mtime\u001b[0m\u001b[0;34m(\u001b[0m\u001b[0;34m)\u001b[0m\u001b[0;34m\u001b[0m\u001b[0;34m\u001b[0m\u001b[0m\n\u001b[0;32m---> 10\u001b[0;31m         \u001b[0mMSFBS_levels\u001b[0m\u001b[0;34m(\u001b[0m\u001b[0mgenerate_random_graph\u001b[0m\u001b[0;34m(\u001b[0m\u001b[0msize\u001b[0m\u001b[0;34m,\u001b[0m \u001b[0msparsity\u001b[0m\u001b[0;34m)\u001b[0m\u001b[0;34m,\u001b[0m \u001b[0mvertices\u001b[0m\u001b[0;34m)\u001b[0m\u001b[0;34m\u001b[0m\u001b[0;34m\u001b[0m\u001b[0m\n\u001b[0m\u001b[1;32m     11\u001b[0m         \u001b[0mprint\u001b[0m\u001b[0;34m(\u001b[0m\u001b[0;34mf\"Time {len(vertices)} vertices, size {size} and sparsity {sparsity} is {time.time() - start}s\"\u001b[0m\u001b[0;34m)\u001b[0m\u001b[0;34m\u001b[0m\u001b[0;34m\u001b[0m\u001b[0m\n",
            "\u001b[0;32m<ipython-input-86-87c519f9708c>\u001b[0m in \u001b[0;36mMSFBS_levels\u001b[0;34m(A, vertices)\u001b[0m\n\u001b[1;32m     29\u001b[0m         \u001b[0mlevels\u001b[0m \u001b[0;34m=\u001b[0m \u001b[0;34m[\u001b[0m\u001b[0;34m]\u001b[0m\u001b[0;34m\u001b[0m\u001b[0;34m\u001b[0m\u001b[0m\n\u001b[1;32m     30\u001b[0m         \u001b[0;32mfor\u001b[0m \u001b[0mj\u001b[0m \u001b[0;32min\u001b[0m \u001b[0mrange\u001b[0m\u001b[0;34m(\u001b[0m\u001b[0mn\u001b[0m\u001b[0;34m)\u001b[0m\u001b[0;34m:\u001b[0m\u001b[0;34m\u001b[0m\u001b[0;34m\u001b[0m\u001b[0m\n\u001b[0;32m---> 31\u001b[0;31m             \u001b[0mlevels\u001b[0m\u001b[0;34m.\u001b[0m\u001b[0mappend\u001b[0m\u001b[0;34m(\u001b[0m\u001b[0mresult\u001b[0m\u001b[0;34m[\u001b[0m\u001b[0mi\u001b[0m\u001b[0;34m,\u001b[0m \u001b[0mj\u001b[0m\u001b[0;34m]\u001b[0m\u001b[0;34m.\u001b[0m\u001b[0mvalue\u001b[0m \u001b[0;32mif\u001b[0m \u001b[0mresult\u001b[0m\u001b[0;34m[\u001b[0m\u001b[0mi\u001b[0m\u001b[0;34m,\u001b[0m \u001b[0mj\u001b[0m\u001b[0;34m]\u001b[0m\u001b[0;34m.\u001b[0m\u001b[0mvalue\u001b[0m \u001b[0;34m!=\u001b[0m \u001b[0;32mNone\u001b[0m \u001b[0;32mor\u001b[0m \u001b[0mj\u001b[0m \u001b[0;34m==\u001b[0m \u001b[0mvertex\u001b[0m \u001b[0;32melse\u001b[0m \u001b[0;34m-\u001b[0m\u001b[0;36m1\u001b[0m\u001b[0;34m)\u001b[0m\u001b[0;34m\u001b[0m\u001b[0;34m\u001b[0m\u001b[0m\n\u001b[0m\u001b[1;32m     32\u001b[0m         \u001b[0moutput\u001b[0m\u001b[0;34m.\u001b[0m\u001b[0mappend\u001b[0m\u001b[0;34m(\u001b[0m\u001b[0;34m(\u001b[0m\u001b[0mvertex\u001b[0m\u001b[0;34m,\u001b[0m \u001b[0mlevels\u001b[0m\u001b[0;34m)\u001b[0m\u001b[0;34m)\u001b[0m\u001b[0;34m\u001b[0m\u001b[0;34m\u001b[0m\u001b[0m\n\u001b[1;32m     33\u001b[0m \u001b[0;34m\u001b[0m\u001b[0m\n",
            "\u001b[0;32m/usr/local/lib/python3.10/dist-packages/graphblas/core/matrix.py\u001b[0m in \u001b[0;36m__getitem__\u001b[0;34m(self, keys)\u001b[0m\n\u001b[1;32m    315\u001b[0m \u001b[0;34m\u001b[0m\u001b[0m\n\u001b[1;32m    316\u001b[0m         \"\"\"\n\u001b[0;32m--> 317\u001b[0;31m         \u001b[0mresolved_indexes\u001b[0m \u001b[0;34m=\u001b[0m \u001b[0mIndexerResolver\u001b[0m\u001b[0;34m(\u001b[0m\u001b[0mself\u001b[0m\u001b[0;34m,\u001b[0m \u001b[0mkeys\u001b[0m\u001b[0;34m)\u001b[0m\u001b[0;34m\u001b[0m\u001b[0;34m\u001b[0m\u001b[0m\n\u001b[0m\u001b[1;32m    318\u001b[0m         \u001b[0mshape\u001b[0m \u001b[0;34m=\u001b[0m \u001b[0mresolved_indexes\u001b[0m\u001b[0;34m.\u001b[0m\u001b[0mshape\u001b[0m\u001b[0;34m\u001b[0m\u001b[0;34m\u001b[0m\u001b[0m\n\u001b[1;32m    319\u001b[0m         \u001b[0;32mif\u001b[0m \u001b[0;32mnot\u001b[0m \u001b[0mshape\u001b[0m\u001b[0;34m:\u001b[0m\u001b[0;34m\u001b[0m\u001b[0;34m\u001b[0m\u001b[0m\n",
            "\u001b[0;32m/usr/local/lib/python3.10/dist-packages/graphblas/core/expr.py\u001b[0m in \u001b[0;36m__init__\u001b[0;34m(self, obj, indices)\u001b[0m\n\u001b[1;32m    134\u001b[0m                 \u001b[0mself\u001b[0m\u001b[0;34m.\u001b[0m\u001b[0mshape\u001b[0m \u001b[0;34m=\u001b[0m \u001b[0;34m(\u001b[0m\u001b[0mobj\u001b[0m\u001b[0;34m.\u001b[0m\u001b[0m_nrows\u001b[0m\u001b[0;34m,\u001b[0m \u001b[0mobj\u001b[0m\u001b[0;34m.\u001b[0m\u001b[0m_ncols\u001b[0m\u001b[0;34m)\u001b[0m\u001b[0;34m\u001b[0m\u001b[0;34m\u001b[0m\u001b[0m\n\u001b[1;32m    135\u001b[0m         \u001b[0;32melse\u001b[0m\u001b[0;34m:\u001b[0m\u001b[0;34m\u001b[0m\u001b[0;34m\u001b[0m\u001b[0m\n\u001b[0;32m--> 136\u001b[0;31m             \u001b[0mself\u001b[0m\u001b[0;34m.\u001b[0m\u001b[0mindices\u001b[0m \u001b[0;34m=\u001b[0m \u001b[0mself\u001b[0m\u001b[0;34m.\u001b[0m\u001b[0mparse_indices\u001b[0m\u001b[0;34m(\u001b[0m\u001b[0mindices\u001b[0m\u001b[0;34m,\u001b[0m \u001b[0mobj\u001b[0m\u001b[0;34m.\u001b[0m\u001b[0mshape\u001b[0m\u001b[0;34m)\u001b[0m\u001b[0;34m\u001b[0m\u001b[0;34m\u001b[0m\u001b[0m\n\u001b[0m\u001b[1;32m    137\u001b[0m             \u001b[0mself\u001b[0m\u001b[0;34m.\u001b[0m\u001b[0mshape\u001b[0m \u001b[0;34m=\u001b[0m \u001b[0mtuple\u001b[0m\u001b[0;34m(\u001b[0m\u001b[0mindex\u001b[0m\u001b[0;34m.\u001b[0m\u001b[0msize\u001b[0m \u001b[0;32mfor\u001b[0m \u001b[0mindex\u001b[0m \u001b[0;32min\u001b[0m \u001b[0mself\u001b[0m\u001b[0;34m.\u001b[0m\u001b[0mindices\u001b[0m \u001b[0;32mif\u001b[0m \u001b[0mindex\u001b[0m\u001b[0;34m.\u001b[0m\u001b[0msize\u001b[0m \u001b[0;32mis\u001b[0m \u001b[0;32mnot\u001b[0m \u001b[0;32mNone\u001b[0m\u001b[0;34m)\u001b[0m\u001b[0;34m\u001b[0m\u001b[0;34m\u001b[0m\u001b[0m\n\u001b[1;32m    138\u001b[0m \u001b[0;34m\u001b[0m\u001b[0m\n",
            "\u001b[0;32m/usr/local/lib/python3.10/dist-packages/graphblas/core/expr.py\u001b[0m in \u001b[0;36mparse_indices\u001b[0;34m(self, indices, shape)\u001b[0m\n\u001b[1;32m    171\u001b[0m                     \u001b[0;34mf\"Index in position {i} cannot be a tuple; must use slice or list or int\"\u001b[0m\u001b[0;34m\u001b[0m\u001b[0;34m\u001b[0m\u001b[0m\n\u001b[1;32m    172\u001b[0m                 )\n\u001b[0;32m--> 173\u001b[0;31m             \u001b[0mout\u001b[0m\u001b[0;34m.\u001b[0m\u001b[0mappend\u001b[0m\u001b[0;34m(\u001b[0m\u001b[0mself\u001b[0m\u001b[0;34m.\u001b[0m\u001b[0mparse_index\u001b[0m\u001b[0;34m(\u001b[0m\u001b[0midx\u001b[0m\u001b[0;34m,\u001b[0m \u001b[0mtyp\u001b[0m\u001b[0;34m,\u001b[0m \u001b[0mshape\u001b[0m\u001b[0;34m[\u001b[0m\u001b[0mi\u001b[0m\u001b[0;34m]\u001b[0m\u001b[0;34m)\u001b[0m\u001b[0;34m)\u001b[0m\u001b[0;34m\u001b[0m\u001b[0;34m\u001b[0m\u001b[0m\n\u001b[0m\u001b[1;32m    174\u001b[0m         \u001b[0;32mreturn\u001b[0m \u001b[0mout\u001b[0m\u001b[0;34m\u001b[0m\u001b[0;34m\u001b[0m\u001b[0m\n\u001b[1;32m    175\u001b[0m \u001b[0;34m\u001b[0m\u001b[0m\n",
            "\u001b[0;32m/usr/local/lib/python3.10/dist-packages/graphblas/core/expr.py\u001b[0m in \u001b[0;36mparse_index\u001b[0;34m(self, index, typ, size)\u001b[0m\n\u001b[1;32m    180\u001b[0m             \u001b[0;32mif\u001b[0m \u001b[0mindex\u001b[0m \u001b[0;34m>=\u001b[0m \u001b[0msize\u001b[0m\u001b[0;34m:\u001b[0m\u001b[0;34m\u001b[0m\u001b[0;34m\u001b[0m\u001b[0m\n\u001b[1;32m    181\u001b[0m                 \u001b[0;32mraise\u001b[0m \u001b[0mIndexError\u001b[0m\u001b[0;34m(\u001b[0m\u001b[0;34mf\"Index out of range: index={index}, size={size}\"\u001b[0m\u001b[0;34m)\u001b[0m\u001b[0;34m\u001b[0m\u001b[0;34m\u001b[0m\u001b[0m\n\u001b[0;32m--> 182\u001b[0;31m             \u001b[0;32mif\u001b[0m \u001b[0mnp\u001b[0m\u001b[0;34m.\u001b[0m\u001b[0missubdtype\u001b[0m\u001b[0;34m(\u001b[0m\u001b[0mtyp\u001b[0m\u001b[0;34m,\u001b[0m \u001b[0mnp\u001b[0m\u001b[0;34m.\u001b[0m\u001b[0msignedinteger\u001b[0m\u001b[0;34m)\u001b[0m \u001b[0;32mand\u001b[0m \u001b[0mindex\u001b[0m \u001b[0;34m<\u001b[0m \u001b[0;36m0\u001b[0m\u001b[0;34m:\u001b[0m\u001b[0;34m\u001b[0m\u001b[0;34m\u001b[0m\u001b[0m\n\u001b[0m\u001b[1;32m    183\u001b[0m                 \u001b[0mindex\u001b[0m \u001b[0;34m=\u001b[0m \u001b[0mindex\u001b[0m \u001b[0;34m+\u001b[0m \u001b[0msize\u001b[0m\u001b[0;34m\u001b[0m\u001b[0;34m\u001b[0m\u001b[0m\n\u001b[1;32m    184\u001b[0m                 \u001b[0;32mif\u001b[0m \u001b[0mindex\u001b[0m \u001b[0;34m<\u001b[0m \u001b[0;36m0\u001b[0m\u001b[0;34m:\u001b[0m\u001b[0;34m\u001b[0m\u001b[0;34m\u001b[0m\u001b[0m\n",
            "\u001b[0;32m/usr/local/lib/python3.10/dist-packages/numpy/core/numerictypes.py\u001b[0m in \u001b[0;36missubdtype\u001b[0;34m(arg1, arg2)\u001b[0m\n\u001b[1;32m    414\u001b[0m \u001b[0;34m\u001b[0m\u001b[0m\n\u001b[1;32m    415\u001b[0m     \"\"\"\n\u001b[0;32m--> 416\u001b[0;31m     \u001b[0;32mif\u001b[0m \u001b[0;32mnot\u001b[0m \u001b[0missubclass_\u001b[0m\u001b[0;34m(\u001b[0m\u001b[0marg1\u001b[0m\u001b[0;34m,\u001b[0m \u001b[0mgeneric\u001b[0m\u001b[0;34m)\u001b[0m\u001b[0;34m:\u001b[0m\u001b[0;34m\u001b[0m\u001b[0;34m\u001b[0m\u001b[0m\n\u001b[0m\u001b[1;32m    417\u001b[0m         \u001b[0marg1\u001b[0m \u001b[0;34m=\u001b[0m \u001b[0mdtype\u001b[0m\u001b[0;34m(\u001b[0m\u001b[0marg1\u001b[0m\u001b[0;34m)\u001b[0m\u001b[0;34m.\u001b[0m\u001b[0mtype\u001b[0m\u001b[0;34m\u001b[0m\u001b[0;34m\u001b[0m\u001b[0m\n\u001b[1;32m    418\u001b[0m     \u001b[0;32mif\u001b[0m \u001b[0;32mnot\u001b[0m \u001b[0missubclass_\u001b[0m\u001b[0;34m(\u001b[0m\u001b[0marg2\u001b[0m\u001b[0;34m,\u001b[0m \u001b[0mgeneric\u001b[0m\u001b[0;34m)\u001b[0m\u001b[0;34m:\u001b[0m\u001b[0;34m\u001b[0m\u001b[0;34m\u001b[0m\u001b[0m\n",
            "\u001b[0;31mKeyboardInterrupt\u001b[0m: "
          ]
        }
      ]
    },
    {
      "cell_type": "markdown",
      "source": [
        "![image.png](data:image/png;base64,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)"
      ],
      "metadata": {
        "id": "5hypNUFXs5W7"
      }
    },
    {
      "cell_type": "code",
      "source": [
        "for size in sizes:\n",
        "  sparsities = [size - 1, 10, size // 2] #неразреженная матрица, разреженная, и 50/50\n",
        "  for sparsity in sparsities:\n",
        "    vertices_ = [list(range(size - 1)), list(range(10)), list(range(size // 2))]\n",
        "    for vertices in vertices_:\n",
        "        start = time.time()\n",
        "        MSFBS_parents(generate_random_graph(size, sparsity), vertices)\n",
        "        print(f\"Time {len(vertices)} vertices, size {size} and sparsity {sparsity} is {time.time() - start}s\")"
      ],
      "metadata": {
        "colab": {
          "base_uri": "https://localhost:8080/",
          "height": 599
        },
        "id": "4zjeOJHfArmn",
        "outputId": "d0a7be8e-0ce8-4189-f128-e26bb68342e1"
      },
      "execution_count": 102,
      "outputs": [
        {
          "output_type": "stream",
          "name": "stdout",
          "text": [
            "Time 99 vertices, size 100 and sparsity 99 is 0.5515294075012207s\n",
            "Time 10 vertices, size 100 and sparsity 99 is 0.058817386627197266s\n",
            "Time 50 vertices, size 100 and sparsity 99 is 0.2427217960357666s\n",
            "Time 99 vertices, size 100 and sparsity 10 is 0.3006429672241211s\n",
            "Time 10 vertices, size 100 and sparsity 10 is 0.03180408477783203s\n",
            "Time 50 vertices, size 100 and sparsity 10 is 0.16547250747680664s\n",
            "Time 99 vertices, size 100 and sparsity 50 is 0.3736727237701416s\n",
            "Time 10 vertices, size 100 and sparsity 50 is 0.040396690368652344s\n",
            "Time 50 vertices, size 100 and sparsity 50 is 0.17775917053222656s\n",
            "Time 999 vertices, size 1000 and sparsity 999 is 35.036843061447144s\n",
            "Time 10 vertices, size 1000 and sparsity 999 is 0.49077272415161133s\n",
            "Time 500 vertices, size 1000 and sparsity 999 is 17.14122986793518s\n",
            "Time 999 vertices, size 1000 and sparsity 10 is 28.051719903945923s\n",
            "Time 10 vertices, size 1000 and sparsity 10 is 0.25895023345947266s\n",
            "Time 500 vertices, size 1000 and sparsity 10 is 14.411349296569824s\n"
          ]
        },
        {
          "output_type": "error",
          "ename": "KeyboardInterrupt",
          "evalue": "",
          "traceback": [
            "\u001b[0;31m---------------------------------------------------------------------------\u001b[0m",
            "\u001b[0;31mKeyboardInterrupt\u001b[0m                         Traceback (most recent call last)",
            "\u001b[0;32m<ipython-input-102-bca5bf243d84>\u001b[0m in \u001b[0;36m<cell line: 1>\u001b[0;34m()\u001b[0m\n\u001b[1;32m      5\u001b[0m     \u001b[0;32mfor\u001b[0m \u001b[0mvertices\u001b[0m \u001b[0;32min\u001b[0m \u001b[0mvertices_\u001b[0m\u001b[0;34m:\u001b[0m\u001b[0;34m\u001b[0m\u001b[0;34m\u001b[0m\u001b[0m\n\u001b[1;32m      6\u001b[0m         \u001b[0mstart\u001b[0m \u001b[0;34m=\u001b[0m \u001b[0mtime\u001b[0m\u001b[0;34m.\u001b[0m\u001b[0mtime\u001b[0m\u001b[0;34m(\u001b[0m\u001b[0;34m)\u001b[0m\u001b[0;34m\u001b[0m\u001b[0;34m\u001b[0m\u001b[0m\n\u001b[0;32m----> 7\u001b[0;31m         \u001b[0mMSFBS_parents\u001b[0m\u001b[0;34m(\u001b[0m\u001b[0mgenerate_random_graph\u001b[0m\u001b[0;34m(\u001b[0m\u001b[0msize\u001b[0m\u001b[0;34m,\u001b[0m \u001b[0msparsity\u001b[0m\u001b[0;34m)\u001b[0m\u001b[0;34m,\u001b[0m \u001b[0mvertices\u001b[0m\u001b[0;34m)\u001b[0m\u001b[0;34m\u001b[0m\u001b[0;34m\u001b[0m\u001b[0m\n\u001b[0m\u001b[1;32m      8\u001b[0m         \u001b[0mprint\u001b[0m\u001b[0;34m(\u001b[0m\u001b[0;34mf\"Time {len(vertices)} vertices, size {size} and sparsity {sparsity} is {time.time() - start}s\"\u001b[0m\u001b[0;34m)\u001b[0m\u001b[0;34m\u001b[0m\u001b[0;34m\u001b[0m\u001b[0m\n",
            "\u001b[0;32m<ipython-input-42-772ce07c4c70>\u001b[0m in \u001b[0;36mMSFBS_parents\u001b[0;34m(A, vertices)\u001b[0m\n\u001b[1;32m     13\u001b[0m       \u001b[0mwavefront\u001b[0m\u001b[0;34m(\u001b[0m\u001b[0;34m~\u001b[0m\u001b[0mparents\u001b[0m\u001b[0;34m.\u001b[0m\u001b[0mS\u001b[0m\u001b[0;34m,\u001b[0m \u001b[0mreplace\u001b[0m\u001b[0;34m=\u001b[0m\u001b[0;32mTrue\u001b[0m\u001b[0;34m)\u001b[0m \u001b[0;34m<<\u001b[0m \u001b[0mwavefront\u001b[0m\u001b[0;34m.\u001b[0m\u001b[0mvxm\u001b[0m\u001b[0;34m(\u001b[0m\u001b[0mA\u001b[0m\u001b[0;34m,\u001b[0m \u001b[0msemiring\u001b[0m\u001b[0;34m.\u001b[0m\u001b[0mmin_first\u001b[0m\u001b[0;34m)\u001b[0m\u001b[0;34m\u001b[0m\u001b[0;34m\u001b[0m\u001b[0m\n\u001b[1;32m     14\u001b[0m       \u001b[0mparents\u001b[0m\u001b[0;34m(\u001b[0m\u001b[0mbinary\u001b[0m\u001b[0;34m.\u001b[0m\u001b[0mplus\u001b[0m\u001b[0;34m)\u001b[0m \u001b[0;34m<<\u001b[0m \u001b[0mwavefront\u001b[0m\u001b[0;34m\u001b[0m\u001b[0;34m\u001b[0m\u001b[0m\n\u001b[0;32m---> 15\u001b[0;31m     \u001b[0moutput\u001b[0m\u001b[0;34m.\u001b[0m\u001b[0mappend\u001b[0m\u001b[0;34m(\u001b[0m\u001b[0;34m(\u001b[0m\u001b[0mvertex\u001b[0m\u001b[0;34m,\u001b[0m \u001b[0;34m[\u001b[0m\u001b[0mparents\u001b[0m\u001b[0;34m.\u001b[0m\u001b[0mget\u001b[0m\u001b[0;34m(\u001b[0m\u001b[0mi\u001b[0m\u001b[0;34m,\u001b[0m \u001b[0mdefault\u001b[0m\u001b[0;34m=\u001b[0m\u001b[0;34m-\u001b[0m\u001b[0;36m2\u001b[0m\u001b[0;34m)\u001b[0m \u001b[0;32mfor\u001b[0m \u001b[0mi\u001b[0m \u001b[0;32min\u001b[0m \u001b[0mrange\u001b[0m\u001b[0;34m(\u001b[0m\u001b[0mN\u001b[0m\u001b[0;34m)\u001b[0m\u001b[0;34m]\u001b[0m\u001b[0;34m)\u001b[0m\u001b[0;34m)\u001b[0m\u001b[0;34m\u001b[0m\u001b[0;34m\u001b[0m\u001b[0m\n\u001b[0m\u001b[1;32m     16\u001b[0m   \u001b[0;32mreturn\u001b[0m \u001b[0moutput\u001b[0m\u001b[0;34m\u001b[0m\u001b[0;34m\u001b[0m\u001b[0m\n",
            "\u001b[0;32m<ipython-input-42-772ce07c4c70>\u001b[0m in \u001b[0;36m<listcomp>\u001b[0;34m(.0)\u001b[0m\n\u001b[1;32m     13\u001b[0m       \u001b[0mwavefront\u001b[0m\u001b[0;34m(\u001b[0m\u001b[0;34m~\u001b[0m\u001b[0mparents\u001b[0m\u001b[0;34m.\u001b[0m\u001b[0mS\u001b[0m\u001b[0;34m,\u001b[0m \u001b[0mreplace\u001b[0m\u001b[0;34m=\u001b[0m\u001b[0;32mTrue\u001b[0m\u001b[0;34m)\u001b[0m \u001b[0;34m<<\u001b[0m \u001b[0mwavefront\u001b[0m\u001b[0;34m.\u001b[0m\u001b[0mvxm\u001b[0m\u001b[0;34m(\u001b[0m\u001b[0mA\u001b[0m\u001b[0;34m,\u001b[0m \u001b[0msemiring\u001b[0m\u001b[0;34m.\u001b[0m\u001b[0mmin_first\u001b[0m\u001b[0;34m)\u001b[0m\u001b[0;34m\u001b[0m\u001b[0;34m\u001b[0m\u001b[0m\n\u001b[1;32m     14\u001b[0m       \u001b[0mparents\u001b[0m\u001b[0;34m(\u001b[0m\u001b[0mbinary\u001b[0m\u001b[0;34m.\u001b[0m\u001b[0mplus\u001b[0m\u001b[0;34m)\u001b[0m \u001b[0;34m<<\u001b[0m \u001b[0mwavefront\u001b[0m\u001b[0;34m\u001b[0m\u001b[0;34m\u001b[0m\u001b[0m\n\u001b[0;32m---> 15\u001b[0;31m     \u001b[0moutput\u001b[0m\u001b[0;34m.\u001b[0m\u001b[0mappend\u001b[0m\u001b[0;34m(\u001b[0m\u001b[0;34m(\u001b[0m\u001b[0mvertex\u001b[0m\u001b[0;34m,\u001b[0m \u001b[0;34m[\u001b[0m\u001b[0mparents\u001b[0m\u001b[0;34m.\u001b[0m\u001b[0mget\u001b[0m\u001b[0;34m(\u001b[0m\u001b[0mi\u001b[0m\u001b[0;34m,\u001b[0m \u001b[0mdefault\u001b[0m\u001b[0;34m=\u001b[0m\u001b[0;34m-\u001b[0m\u001b[0;36m2\u001b[0m\u001b[0;34m)\u001b[0m \u001b[0;32mfor\u001b[0m \u001b[0mi\u001b[0m \u001b[0;32min\u001b[0m \u001b[0mrange\u001b[0m\u001b[0;34m(\u001b[0m\u001b[0mN\u001b[0m\u001b[0;34m)\u001b[0m\u001b[0;34m]\u001b[0m\u001b[0;34m)\u001b[0m\u001b[0;34m)\u001b[0m\u001b[0;34m\u001b[0m\u001b[0;34m\u001b[0m\u001b[0m\n\u001b[0m\u001b[1;32m     16\u001b[0m   \u001b[0;32mreturn\u001b[0m \u001b[0moutput\u001b[0m\u001b[0;34m\u001b[0m\u001b[0;34m\u001b[0m\u001b[0m\n",
            "\u001b[0;32m/usr/local/lib/python3.10/dist-packages/graphblas/core/vector.py\u001b[0m in \u001b[0;36mget\u001b[0;34m(self, index, default)\u001b[0m\n\u001b[1;32m    672\u001b[0m         \u001b[0mexpr\u001b[0m \u001b[0;34m=\u001b[0m \u001b[0mself\u001b[0m\u001b[0;34m[\u001b[0m\u001b[0mindex\u001b[0m\u001b[0;34m]\u001b[0m\u001b[0;34m\u001b[0m\u001b[0;34m\u001b[0m\u001b[0m\n\u001b[1;32m    673\u001b[0m         \u001b[0;32mif\u001b[0m \u001b[0mexpr\u001b[0m\u001b[0;34m.\u001b[0m\u001b[0m_is_scalar\u001b[0m\u001b[0;34m:\u001b[0m\u001b[0;34m\u001b[0m\u001b[0;34m\u001b[0m\u001b[0m\n\u001b[0;32m--> 674\u001b[0;31m             \u001b[0mrv\u001b[0m \u001b[0;34m=\u001b[0m \u001b[0mexpr\u001b[0m\u001b[0;34m.\u001b[0m\u001b[0mnew\u001b[0m\u001b[0;34m(\u001b[0m\u001b[0;34m)\u001b[0m\u001b[0;34m.\u001b[0m\u001b[0mvalue\u001b[0m\u001b[0;34m\u001b[0m\u001b[0;34m\u001b[0m\u001b[0m\n\u001b[0m\u001b[1;32m    675\u001b[0m             \u001b[0;32mreturn\u001b[0m \u001b[0mdefault\u001b[0m \u001b[0;32mif\u001b[0m \u001b[0mrv\u001b[0m \u001b[0;32mis\u001b[0m \u001b[0;32mNone\u001b[0m \u001b[0;32melse\u001b[0m \u001b[0mrv\u001b[0m\u001b[0;34m\u001b[0m\u001b[0;34m\u001b[0m\u001b[0m\n\u001b[1;32m    676\u001b[0m         raise ValueError(\n",
            "\u001b[0;32m/usr/local/lib/python3.10/dist-packages/graphblas/core/scalar.py\u001b[0m in \u001b[0;36mnew\u001b[0;34m(self, dtype, is_cscalar, name, **opts)\u001b[0m\n\u001b[1;32m   1062\u001b[0m         \u001b[0;32mif\u001b[0m \u001b[0mis_cscalar\u001b[0m \u001b[0;32mis\u001b[0m \u001b[0;32mNone\u001b[0m\u001b[0;34m:\u001b[0m\u001b[0;34m\u001b[0m\u001b[0;34m\u001b[0m\u001b[0m\n\u001b[1;32m   1063\u001b[0m             \u001b[0mis_cscalar\u001b[0m \u001b[0;34m=\u001b[0m \u001b[0;32mFalse\u001b[0m\u001b[0;34m\u001b[0m\u001b[0;34m\u001b[0m\u001b[0m\n\u001b[0;32m-> 1064\u001b[0;31m         return self.parent._extract_element(\n\u001b[0m\u001b[1;32m   1065\u001b[0m             \u001b[0mself\u001b[0m\u001b[0;34m.\u001b[0m\u001b[0mresolved_indexes\u001b[0m\u001b[0;34m,\u001b[0m \u001b[0mdtype\u001b[0m\u001b[0;34m,\u001b[0m \u001b[0mopts\u001b[0m\u001b[0;34m,\u001b[0m \u001b[0mis_cscalar\u001b[0m\u001b[0;34m=\u001b[0m\u001b[0mis_cscalar\u001b[0m\u001b[0;34m,\u001b[0m \u001b[0mname\u001b[0m\u001b[0;34m=\u001b[0m\u001b[0mname\u001b[0m\u001b[0;34m\u001b[0m\u001b[0;34m\u001b[0m\u001b[0m\n\u001b[1;32m   1066\u001b[0m         )\n",
            "\u001b[0;32m/usr/local/lib/python3.10/dist-packages/graphblas/core/vector.py\u001b[0m in \u001b[0;36m_extract_element\u001b[0;34m(self, resolved_indexes, dtype, opts, is_cscalar, name, result)\u001b[0m\n\u001b[1;32m   1862\u001b[0m                 \u001b[0mresult\u001b[0m\u001b[0;34m.\u001b[0m\u001b[0m_empty\u001b[0m \u001b[0;34m=\u001b[0m \u001b[0;32mFalse\u001b[0m\u001b[0;34m\u001b[0m\u001b[0;34m\u001b[0m\u001b[0m\n\u001b[1;32m   1863\u001b[0m         \u001b[0;32melse\u001b[0m\u001b[0;34m:\u001b[0m\u001b[0;34m\u001b[0m\u001b[0;34m\u001b[0m\u001b[0m\n\u001b[0;32m-> 1864\u001b[0;31m             \u001b[0mcall\u001b[0m\u001b[0;34m(\u001b[0m\u001b[0;34m\"GrB_Vector_extractElement_Scalar\"\u001b[0m\u001b[0;34m,\u001b[0m \u001b[0;34m[\u001b[0m\u001b[0mresult\u001b[0m\u001b[0;34m,\u001b[0m \u001b[0mself\u001b[0m\u001b[0;34m,\u001b[0m \u001b[0midx\u001b[0m\u001b[0;34m.\u001b[0m\u001b[0mindex\u001b[0m\u001b[0;34m]\u001b[0m\u001b[0;34m)\u001b[0m\u001b[0;34m\u001b[0m\u001b[0;34m\u001b[0m\u001b[0m\n\u001b[0m\u001b[1;32m   1865\u001b[0m         \u001b[0;32mreturn\u001b[0m \u001b[0mresult\u001b[0m\u001b[0;34m\u001b[0m\u001b[0;34m\u001b[0m\u001b[0m\n\u001b[1;32m   1866\u001b[0m \u001b[0;34m\u001b[0m\u001b[0m\n",
            "\u001b[0;32m/usr/local/lib/python3.10/dist-packages/graphblas/core/base.py\u001b[0m in \u001b[0;36mcall\u001b[0;34m(cfunc_name, args)\u001b[0m\n\u001b[1;32m     25\u001b[0m     \u001b[0mcfunc\u001b[0m \u001b[0;34m=\u001b[0m \u001b[0mlibget\u001b[0m\u001b[0;34m(\u001b[0m\u001b[0mcfunc_name\u001b[0m\u001b[0;34m)\u001b[0m\u001b[0;34m\u001b[0m\u001b[0;34m\u001b[0m\u001b[0m\n\u001b[1;32m     26\u001b[0m     \u001b[0;32mtry\u001b[0m\u001b[0;34m:\u001b[0m\u001b[0;34m\u001b[0m\u001b[0;34m\u001b[0m\u001b[0m\n\u001b[0;32m---> 27\u001b[0;31m         \u001b[0merr_code\u001b[0m \u001b[0;34m=\u001b[0m \u001b[0mcfunc\u001b[0m\u001b[0;34m(\u001b[0m\u001b[0;34m*\u001b[0m\u001b[0mcall_args\u001b[0m\u001b[0;34m)\u001b[0m\u001b[0;34m\u001b[0m\u001b[0;34m\u001b[0m\u001b[0m\n\u001b[0m\u001b[1;32m     28\u001b[0m     \u001b[0;32mexcept\u001b[0m \u001b[0mTypeError\u001b[0m \u001b[0;32mas\u001b[0m \u001b[0mexc\u001b[0m\u001b[0;34m:\u001b[0m\u001b[0;34m\u001b[0m\u001b[0;34m\u001b[0m\u001b[0m\n\u001b[1;32m     29\u001b[0m         \u001b[0;31m# We should strive to not encounter this during normal usage\u001b[0m\u001b[0;34m\u001b[0m\u001b[0;34m\u001b[0m\u001b[0m\n",
            "\u001b[0;31mKeyboardInterrupt\u001b[0m: "
          ]
        }
      ]
    },
    {
      "cell_type": "code",
      "source": [
        "for size in sizes:\n",
        "  sparsities = [size - 1, 10, size // 2] #неразреженная матрица, разреженная, и 50/50\n",
        "  for sparsity in sparsities:\n",
        "    vertices_ = [list(range(10)), list(range(20)), list(range(99))]\n",
        "    for vertices in vertices_:\n",
        "        start = time.time()\n",
        "        MSFBS_parents(generate_random_graph(size, sparsity), vertices)\n",
        "        print(f\"Time {len(vertices)} vertices, size {size} and sparsity {sparsity} is {time.time() - start}s\")"
      ],
      "metadata": {
        "colab": {
          "base_uri": "https://localhost:8080/",
          "height": 946
        },
        "id": "6RVoHkLdtZ_8",
        "outputId": "168d938c-4935-4a3e-ea6e-1e425baa4ae7"
      },
      "execution_count": 103,
      "outputs": [
        {
          "output_type": "stream",
          "name": "stdout",
          "text": [
            "Time 10 vertices, size 100 and sparsity 99 is 0.2884695529937744s\n",
            "Time 20 vertices, size 100 and sparsity 99 is 0.5711135864257812s\n",
            "Time 99 vertices, size 100 and sparsity 99 is 1.1982550621032715s\n",
            "Time 10 vertices, size 100 and sparsity 10 is 0.06617045402526855s\n",
            "Time 20 vertices, size 100 and sparsity 10 is 0.18420720100402832s\n",
            "Time 99 vertices, size 100 and sparsity 10 is 0.5206799507141113s\n",
            "Time 10 vertices, size 100 and sparsity 50 is 0.03949403762817383s\n",
            "Time 20 vertices, size 100 and sparsity 50 is 0.07585740089416504s\n",
            "Time 99 vertices, size 100 and sparsity 50 is 0.3595092296600342s\n",
            "Time 10 vertices, size 1000 and sparsity 999 is 0.459871768951416s\n",
            "Time 20 vertices, size 1000 and sparsity 999 is 0.7822592258453369s\n",
            "Time 99 vertices, size 1000 and sparsity 999 is 3.2820024490356445s\n",
            "Time 10 vertices, size 1000 and sparsity 10 is 0.2593405246734619s\n",
            "Time 20 vertices, size 1000 and sparsity 10 is 0.5401062965393066s\n",
            "Time 99 vertices, size 1000 and sparsity 10 is 2.5175633430480957s\n",
            "Time 10 vertices, size 1000 and sparsity 500 is 0.5651836395263672s\n",
            "Time 20 vertices, size 1000 and sparsity 500 is 0.9555339813232422s\n",
            "Time 99 vertices, size 1000 and sparsity 500 is 3.408351421356201s\n",
            "Time 10 vertices, size 5000 and sparsity 4999 is 2.8724844455718994s\n",
            "Time 20 vertices, size 5000 and sparsity 4999 is 4.38290548324585s\n",
            "Time 99 vertices, size 5000 and sparsity 4999 is 20.40906524658203s\n",
            "Time 10 vertices, size 5000 and sparsity 10 is 1.2698001861572266s\n",
            "Time 20 vertices, size 5000 and sparsity 10 is 2.532588005065918s\n",
            "Time 99 vertices, size 5000 and sparsity 10 is 13.911405324935913s\n",
            "Time 10 vertices, size 5000 and sparsity 2500 is 1.9037089347839355s\n",
            "Time 20 vertices, size 5000 and sparsity 2500 is 3.695720672607422s\n",
            "Time 99 vertices, size 5000 and sparsity 2500 is 15.631598472595215s\n",
            "Time 10 vertices, size 10000 and sparsity 9999 is 7.272063732147217s\n",
            "Time 20 vertices, size 10000 and sparsity 9999 is 11.652391195297241s\n",
            "Time 99 vertices, size 10000 and sparsity 9999 is 38.92726540565491s\n",
            "Time 10 vertices, size 10000 and sparsity 10 is 2.72267484664917s\n",
            "Time 20 vertices, size 10000 and sparsity 10 is 6.465781211853027s\n",
            "Time 99 vertices, size 10000 and sparsity 10 is 27.723902225494385s\n",
            "Time 10 vertices, size 10000 and sparsity 5000 is 4.517145156860352s\n",
            "Time 20 vertices, size 10000 and sparsity 5000 is 8.55146336555481s\n"
          ]
        },
        {
          "output_type": "error",
          "ename": "KeyboardInterrupt",
          "evalue": "",
          "traceback": [
            "\u001b[0;31m---------------------------------------------------------------------------\u001b[0m",
            "\u001b[0;31mKeyboardInterrupt\u001b[0m                         Traceback (most recent call last)",
            "\u001b[0;32m<ipython-input-103-0d811fdc5279>\u001b[0m in \u001b[0;36m<cell line: 1>\u001b[0;34m()\u001b[0m\n\u001b[1;32m      5\u001b[0m     \u001b[0;32mfor\u001b[0m \u001b[0mvertices\u001b[0m \u001b[0;32min\u001b[0m \u001b[0mvertices_\u001b[0m\u001b[0;34m:\u001b[0m\u001b[0;34m\u001b[0m\u001b[0;34m\u001b[0m\u001b[0m\n\u001b[1;32m      6\u001b[0m         \u001b[0mstart\u001b[0m \u001b[0;34m=\u001b[0m \u001b[0mtime\u001b[0m\u001b[0;34m.\u001b[0m\u001b[0mtime\u001b[0m\u001b[0;34m(\u001b[0m\u001b[0;34m)\u001b[0m\u001b[0;34m\u001b[0m\u001b[0;34m\u001b[0m\u001b[0m\n\u001b[0;32m----> 7\u001b[0;31m         \u001b[0mMSFBS_parents\u001b[0m\u001b[0;34m(\u001b[0m\u001b[0mgenerate_random_graph\u001b[0m\u001b[0;34m(\u001b[0m\u001b[0msize\u001b[0m\u001b[0;34m,\u001b[0m \u001b[0msparsity\u001b[0m\u001b[0;34m)\u001b[0m\u001b[0;34m,\u001b[0m \u001b[0mvertices\u001b[0m\u001b[0;34m)\u001b[0m\u001b[0;34m\u001b[0m\u001b[0;34m\u001b[0m\u001b[0m\n\u001b[0m\u001b[1;32m      8\u001b[0m         \u001b[0mprint\u001b[0m\u001b[0;34m(\u001b[0m\u001b[0;34mf\"Time {len(vertices)} vertices, size {size} and sparsity {sparsity} is {time.time() - start}s\"\u001b[0m\u001b[0;34m)\u001b[0m\u001b[0;34m\u001b[0m\u001b[0;34m\u001b[0m\u001b[0m\n",
            "\u001b[0;32m<ipython-input-42-772ce07c4c70>\u001b[0m in \u001b[0;36mMSFBS_parents\u001b[0;34m(A, vertices)\u001b[0m\n\u001b[1;32m     13\u001b[0m       \u001b[0mwavefront\u001b[0m\u001b[0;34m(\u001b[0m\u001b[0;34m~\u001b[0m\u001b[0mparents\u001b[0m\u001b[0;34m.\u001b[0m\u001b[0mS\u001b[0m\u001b[0;34m,\u001b[0m \u001b[0mreplace\u001b[0m\u001b[0;34m=\u001b[0m\u001b[0;32mTrue\u001b[0m\u001b[0;34m)\u001b[0m \u001b[0;34m<<\u001b[0m \u001b[0mwavefront\u001b[0m\u001b[0;34m.\u001b[0m\u001b[0mvxm\u001b[0m\u001b[0;34m(\u001b[0m\u001b[0mA\u001b[0m\u001b[0;34m,\u001b[0m \u001b[0msemiring\u001b[0m\u001b[0;34m.\u001b[0m\u001b[0mmin_first\u001b[0m\u001b[0;34m)\u001b[0m\u001b[0;34m\u001b[0m\u001b[0;34m\u001b[0m\u001b[0m\n\u001b[1;32m     14\u001b[0m       \u001b[0mparents\u001b[0m\u001b[0;34m(\u001b[0m\u001b[0mbinary\u001b[0m\u001b[0;34m.\u001b[0m\u001b[0mplus\u001b[0m\u001b[0;34m)\u001b[0m \u001b[0;34m<<\u001b[0m \u001b[0mwavefront\u001b[0m\u001b[0;34m\u001b[0m\u001b[0;34m\u001b[0m\u001b[0m\n\u001b[0;32m---> 15\u001b[0;31m     \u001b[0moutput\u001b[0m\u001b[0;34m.\u001b[0m\u001b[0mappend\u001b[0m\u001b[0;34m(\u001b[0m\u001b[0;34m(\u001b[0m\u001b[0mvertex\u001b[0m\u001b[0;34m,\u001b[0m \u001b[0;34m[\u001b[0m\u001b[0mparents\u001b[0m\u001b[0;34m.\u001b[0m\u001b[0mget\u001b[0m\u001b[0;34m(\u001b[0m\u001b[0mi\u001b[0m\u001b[0;34m,\u001b[0m \u001b[0mdefault\u001b[0m\u001b[0;34m=\u001b[0m\u001b[0;34m-\u001b[0m\u001b[0;36m2\u001b[0m\u001b[0;34m)\u001b[0m \u001b[0;32mfor\u001b[0m \u001b[0mi\u001b[0m \u001b[0;32min\u001b[0m \u001b[0mrange\u001b[0m\u001b[0;34m(\u001b[0m\u001b[0mN\u001b[0m\u001b[0;34m)\u001b[0m\u001b[0;34m]\u001b[0m\u001b[0;34m)\u001b[0m\u001b[0;34m)\u001b[0m\u001b[0;34m\u001b[0m\u001b[0;34m\u001b[0m\u001b[0m\n\u001b[0m\u001b[1;32m     16\u001b[0m   \u001b[0;32mreturn\u001b[0m \u001b[0moutput\u001b[0m\u001b[0;34m\u001b[0m\u001b[0;34m\u001b[0m\u001b[0m\n",
            "\u001b[0;32m<ipython-input-42-772ce07c4c70>\u001b[0m in \u001b[0;36m<listcomp>\u001b[0;34m(.0)\u001b[0m\n\u001b[1;32m     13\u001b[0m       \u001b[0mwavefront\u001b[0m\u001b[0;34m(\u001b[0m\u001b[0;34m~\u001b[0m\u001b[0mparents\u001b[0m\u001b[0;34m.\u001b[0m\u001b[0mS\u001b[0m\u001b[0;34m,\u001b[0m \u001b[0mreplace\u001b[0m\u001b[0;34m=\u001b[0m\u001b[0;32mTrue\u001b[0m\u001b[0;34m)\u001b[0m \u001b[0;34m<<\u001b[0m \u001b[0mwavefront\u001b[0m\u001b[0;34m.\u001b[0m\u001b[0mvxm\u001b[0m\u001b[0;34m(\u001b[0m\u001b[0mA\u001b[0m\u001b[0;34m,\u001b[0m \u001b[0msemiring\u001b[0m\u001b[0;34m.\u001b[0m\u001b[0mmin_first\u001b[0m\u001b[0;34m)\u001b[0m\u001b[0;34m\u001b[0m\u001b[0;34m\u001b[0m\u001b[0m\n\u001b[1;32m     14\u001b[0m       \u001b[0mparents\u001b[0m\u001b[0;34m(\u001b[0m\u001b[0mbinary\u001b[0m\u001b[0;34m.\u001b[0m\u001b[0mplus\u001b[0m\u001b[0;34m)\u001b[0m \u001b[0;34m<<\u001b[0m \u001b[0mwavefront\u001b[0m\u001b[0;34m\u001b[0m\u001b[0;34m\u001b[0m\u001b[0m\n\u001b[0;32m---> 15\u001b[0;31m     \u001b[0moutput\u001b[0m\u001b[0;34m.\u001b[0m\u001b[0mappend\u001b[0m\u001b[0;34m(\u001b[0m\u001b[0;34m(\u001b[0m\u001b[0mvertex\u001b[0m\u001b[0;34m,\u001b[0m \u001b[0;34m[\u001b[0m\u001b[0mparents\u001b[0m\u001b[0;34m.\u001b[0m\u001b[0mget\u001b[0m\u001b[0;34m(\u001b[0m\u001b[0mi\u001b[0m\u001b[0;34m,\u001b[0m \u001b[0mdefault\u001b[0m\u001b[0;34m=\u001b[0m\u001b[0;34m-\u001b[0m\u001b[0;36m2\u001b[0m\u001b[0;34m)\u001b[0m \u001b[0;32mfor\u001b[0m \u001b[0mi\u001b[0m \u001b[0;32min\u001b[0m \u001b[0mrange\u001b[0m\u001b[0;34m(\u001b[0m\u001b[0mN\u001b[0m\u001b[0;34m)\u001b[0m\u001b[0;34m]\u001b[0m\u001b[0;34m)\u001b[0m\u001b[0;34m)\u001b[0m\u001b[0;34m\u001b[0m\u001b[0;34m\u001b[0m\u001b[0m\n\u001b[0m\u001b[1;32m     16\u001b[0m   \u001b[0;32mreturn\u001b[0m \u001b[0moutput\u001b[0m\u001b[0;34m\u001b[0m\u001b[0;34m\u001b[0m\u001b[0m\n",
            "\u001b[0;32m/usr/local/lib/python3.10/dist-packages/graphblas/core/vector.py\u001b[0m in \u001b[0;36mget\u001b[0;34m(self, index, default)\u001b[0m\n\u001b[1;32m    670\u001b[0m \u001b[0;34m\u001b[0m\u001b[0m\n\u001b[1;32m    671\u001b[0m         \"\"\"\n\u001b[0;32m--> 672\u001b[0;31m         \u001b[0mexpr\u001b[0m \u001b[0;34m=\u001b[0m \u001b[0mself\u001b[0m\u001b[0;34m[\u001b[0m\u001b[0mindex\u001b[0m\u001b[0;34m]\u001b[0m\u001b[0;34m\u001b[0m\u001b[0;34m\u001b[0m\u001b[0m\n\u001b[0m\u001b[1;32m    673\u001b[0m         \u001b[0;32mif\u001b[0m \u001b[0mexpr\u001b[0m\u001b[0;34m.\u001b[0m\u001b[0m_is_scalar\u001b[0m\u001b[0;34m:\u001b[0m\u001b[0;34m\u001b[0m\u001b[0;34m\u001b[0m\u001b[0m\n\u001b[1;32m    674\u001b[0m             \u001b[0mrv\u001b[0m \u001b[0;34m=\u001b[0m \u001b[0mexpr\u001b[0m\u001b[0;34m.\u001b[0m\u001b[0mnew\u001b[0m\u001b[0;34m(\u001b[0m\u001b[0;34m)\u001b[0m\u001b[0;34m.\u001b[0m\u001b[0mvalue\u001b[0m\u001b[0;34m\u001b[0m\u001b[0;34m\u001b[0m\u001b[0m\n",
            "\u001b[0;32m/usr/local/lib/python3.10/dist-packages/graphblas/core/vector.py\u001b[0m in \u001b[0;36m__getitem__\u001b[0;34m(self, keys)\u001b[0m\n\u001b[1;32m    284\u001b[0m \u001b[0;34m\u001b[0m\u001b[0m\n\u001b[1;32m    285\u001b[0m         \"\"\"\n\u001b[0;32m--> 286\u001b[0;31m         \u001b[0mresolved_indexes\u001b[0m \u001b[0;34m=\u001b[0m \u001b[0mIndexerResolver\u001b[0m\u001b[0;34m(\u001b[0m\u001b[0mself\u001b[0m\u001b[0;34m,\u001b[0m \u001b[0mkeys\u001b[0m\u001b[0;34m)\u001b[0m\u001b[0;34m\u001b[0m\u001b[0;34m\u001b[0m\u001b[0m\n\u001b[0m\u001b[1;32m    287\u001b[0m         \u001b[0mshape\u001b[0m \u001b[0;34m=\u001b[0m \u001b[0mresolved_indexes\u001b[0m\u001b[0;34m.\u001b[0m\u001b[0mshape\u001b[0m\u001b[0;34m\u001b[0m\u001b[0;34m\u001b[0m\u001b[0m\n\u001b[1;32m    288\u001b[0m         \u001b[0;32mif\u001b[0m \u001b[0;32mnot\u001b[0m \u001b[0mshape\u001b[0m\u001b[0;34m:\u001b[0m\u001b[0;34m\u001b[0m\u001b[0;34m\u001b[0m\u001b[0m\n",
            "\u001b[0;32m/usr/local/lib/python3.10/dist-packages/graphblas/core/expr.py\u001b[0m in \u001b[0;36m__init__\u001b[0;34m(self, obj, indices)\u001b[0m\n\u001b[1;32m    134\u001b[0m                 \u001b[0mself\u001b[0m\u001b[0;34m.\u001b[0m\u001b[0mshape\u001b[0m \u001b[0;34m=\u001b[0m \u001b[0;34m(\u001b[0m\u001b[0mobj\u001b[0m\u001b[0;34m.\u001b[0m\u001b[0m_nrows\u001b[0m\u001b[0;34m,\u001b[0m \u001b[0mobj\u001b[0m\u001b[0;34m.\u001b[0m\u001b[0m_ncols\u001b[0m\u001b[0;34m)\u001b[0m\u001b[0;34m\u001b[0m\u001b[0;34m\u001b[0m\u001b[0m\n\u001b[1;32m    135\u001b[0m         \u001b[0;32melse\u001b[0m\u001b[0;34m:\u001b[0m\u001b[0;34m\u001b[0m\u001b[0;34m\u001b[0m\u001b[0m\n\u001b[0;32m--> 136\u001b[0;31m             \u001b[0mself\u001b[0m\u001b[0;34m.\u001b[0m\u001b[0mindices\u001b[0m \u001b[0;34m=\u001b[0m \u001b[0mself\u001b[0m\u001b[0;34m.\u001b[0m\u001b[0mparse_indices\u001b[0m\u001b[0;34m(\u001b[0m\u001b[0mindices\u001b[0m\u001b[0;34m,\u001b[0m \u001b[0mobj\u001b[0m\u001b[0;34m.\u001b[0m\u001b[0mshape\u001b[0m\u001b[0;34m)\u001b[0m\u001b[0;34m\u001b[0m\u001b[0;34m\u001b[0m\u001b[0m\n\u001b[0m\u001b[1;32m    137\u001b[0m             \u001b[0mself\u001b[0m\u001b[0;34m.\u001b[0m\u001b[0mshape\u001b[0m \u001b[0;34m=\u001b[0m \u001b[0mtuple\u001b[0m\u001b[0;34m(\u001b[0m\u001b[0mindex\u001b[0m\u001b[0;34m.\u001b[0m\u001b[0msize\u001b[0m \u001b[0;32mfor\u001b[0m \u001b[0mindex\u001b[0m \u001b[0;32min\u001b[0m \u001b[0mself\u001b[0m\u001b[0;34m.\u001b[0m\u001b[0mindices\u001b[0m \u001b[0;32mif\u001b[0m \u001b[0mindex\u001b[0m\u001b[0;34m.\u001b[0m\u001b[0msize\u001b[0m \u001b[0;32mis\u001b[0m \u001b[0;32mnot\u001b[0m \u001b[0;32mNone\u001b[0m\u001b[0;34m)\u001b[0m\u001b[0;34m\u001b[0m\u001b[0;34m\u001b[0m\u001b[0m\n\u001b[1;32m    138\u001b[0m \u001b[0;34m\u001b[0m\u001b[0m\n",
            "\u001b[0;31mKeyboardInterrupt\u001b[0m: "
          ]
        }
      ]
    },
    {
      "cell_type": "code",
      "source": [
        "for size in sizes:\n",
        "  sparsities = [size - 1, 10, size // 2] #неразреженная матрица, разреженная, и 50/50\n",
        "  for sparsity in sparsities:\n",
        "    vertices_ = [list(range(10)), list(range(20)), list(range(99))]\n",
        "    for vertices in vertices_:\n",
        "        start = time.time()\n",
        "        MSFBS_levels(generate_random_graph(size, sparsity), vertices)\n",
        "        print(f\"Time {len(vertices)} vertices, size {size} and sparsity {sparsity} is {time.time() - start}s\")"
      ],
      "metadata": {
        "colab": {
          "base_uri": "https://localhost:8080/",
          "height": 825
        },
        "id": "ooPuCNx1uVkN",
        "outputId": "376c0e49-c609-491b-85f2-4a84b0e388e1"
      },
      "execution_count": 104,
      "outputs": [
        {
          "output_type": "stream",
          "name": "stdout",
          "text": [
            "Time 10 vertices, size 100 and sparsity 99 is 0.0923166275024414s\n",
            "Time 20 vertices, size 100 and sparsity 99 is 0.16899681091308594s\n",
            "Time 99 vertices, size 100 and sparsity 99 is 0.7239267826080322s\n",
            "Time 10 vertices, size 100 and sparsity 10 is 0.04020404815673828s\n",
            "Time 20 vertices, size 100 and sparsity 10 is 0.07996225357055664s\n",
            "Time 99 vertices, size 100 and sparsity 10 is 0.40021443367004395s\n",
            "Time 10 vertices, size 100 and sparsity 50 is 0.061163902282714844s\n",
            "Time 20 vertices, size 100 and sparsity 50 is 0.10423398017883301s\n",
            "Time 99 vertices, size 100 and sparsity 50 is 0.3996157646179199s\n",
            "Time 10 vertices, size 1000 and sparsity 999 is 0.9512171745300293s\n",
            "Time 20 vertices, size 1000 and sparsity 999 is 1.6725420951843262s\n",
            "Time 99 vertices, size 1000 and sparsity 999 is 8.399077892303467s\n",
            "Time 10 vertices, size 1000 and sparsity 10 is 0.6664307117462158s\n",
            "Time 20 vertices, size 1000 and sparsity 10 is 1.5034599304199219s\n",
            "Time 99 vertices, size 1000 and sparsity 10 is 4.186621904373169s\n",
            "Time 10 vertices, size 1000 and sparsity 500 is 0.45802831649780273s\n",
            "Time 20 vertices, size 1000 and sparsity 500 is 1.2777159214019775s\n",
            "Time 99 vertices, size 1000 and sparsity 500 is 4.766223907470703s\n",
            "Time 10 vertices, size 5000 and sparsity 4999 is 5.074031829833984s\n",
            "Time 20 vertices, size 5000 and sparsity 4999 is 9.568912267684937s\n",
            "Time 99 vertices, size 5000 and sparsity 4999 is 43.517361640930176s\n",
            "Time 10 vertices, size 5000 and sparsity 10 is 1.8822157382965088s\n",
            "Time 20 vertices, size 5000 and sparsity 10 is 5.050289869308472s\n",
            "Time 99 vertices, size 5000 and sparsity 10 is 19.41046929359436s\n",
            "Time 10 vertices, size 5000 and sparsity 2500 is 2.4819955825805664s\n",
            "Time 20 vertices, size 5000 and sparsity 2500 is 5.673307180404663s\n",
            "Time 99 vertices, size 5000 and sparsity 2500 is 20.437633752822876s\n",
            "Time 10 vertices, size 10000 and sparsity 9999 is 19.242152452468872s\n"
          ]
        },
        {
          "output_type": "error",
          "ename": "KeyboardInterrupt",
          "evalue": "",
          "traceback": [
            "\u001b[0;31m---------------------------------------------------------------------------\u001b[0m",
            "\u001b[0;31mKeyboardInterrupt\u001b[0m                         Traceback (most recent call last)",
            "\u001b[0;32m<ipython-input-104-adb9ebe8eb6b>\u001b[0m in \u001b[0;36m<cell line: 1>\u001b[0;34m()\u001b[0m\n\u001b[1;32m      5\u001b[0m     \u001b[0;32mfor\u001b[0m \u001b[0mvertices\u001b[0m \u001b[0;32min\u001b[0m \u001b[0mvertices_\u001b[0m\u001b[0;34m:\u001b[0m\u001b[0;34m\u001b[0m\u001b[0;34m\u001b[0m\u001b[0m\n\u001b[1;32m      6\u001b[0m         \u001b[0mstart\u001b[0m \u001b[0;34m=\u001b[0m \u001b[0mtime\u001b[0m\u001b[0;34m.\u001b[0m\u001b[0mtime\u001b[0m\u001b[0;34m(\u001b[0m\u001b[0;34m)\u001b[0m\u001b[0;34m\u001b[0m\u001b[0;34m\u001b[0m\u001b[0m\n\u001b[0;32m----> 7\u001b[0;31m         \u001b[0mMSFBS_levels\u001b[0m\u001b[0;34m(\u001b[0m\u001b[0mgenerate_random_graph\u001b[0m\u001b[0;34m(\u001b[0m\u001b[0msize\u001b[0m\u001b[0;34m,\u001b[0m \u001b[0msparsity\u001b[0m\u001b[0;34m)\u001b[0m\u001b[0;34m,\u001b[0m \u001b[0mvertices\u001b[0m\u001b[0;34m)\u001b[0m\u001b[0;34m\u001b[0m\u001b[0;34m\u001b[0m\u001b[0m\n\u001b[0m\u001b[1;32m      8\u001b[0m         \u001b[0mprint\u001b[0m\u001b[0;34m(\u001b[0m\u001b[0;34mf\"Time {len(vertices)} vertices, size {size} and sparsity {sparsity} is {time.time() - start}s\"\u001b[0m\u001b[0;34m)\u001b[0m\u001b[0;34m\u001b[0m\u001b[0;34m\u001b[0m\u001b[0m\n",
            "\u001b[0;32m<ipython-input-86-87c519f9708c>\u001b[0m in \u001b[0;36mMSFBS_levels\u001b[0;34m(A, vertices)\u001b[0m\n\u001b[1;32m     29\u001b[0m         \u001b[0mlevels\u001b[0m \u001b[0;34m=\u001b[0m \u001b[0;34m[\u001b[0m\u001b[0;34m]\u001b[0m\u001b[0;34m\u001b[0m\u001b[0;34m\u001b[0m\u001b[0m\n\u001b[1;32m     30\u001b[0m         \u001b[0;32mfor\u001b[0m \u001b[0mj\u001b[0m \u001b[0;32min\u001b[0m \u001b[0mrange\u001b[0m\u001b[0;34m(\u001b[0m\u001b[0mn\u001b[0m\u001b[0;34m)\u001b[0m\u001b[0;34m:\u001b[0m\u001b[0;34m\u001b[0m\u001b[0;34m\u001b[0m\u001b[0m\n\u001b[0;32m---> 31\u001b[0;31m             \u001b[0mlevels\u001b[0m\u001b[0;34m.\u001b[0m\u001b[0mappend\u001b[0m\u001b[0;34m(\u001b[0m\u001b[0mresult\u001b[0m\u001b[0;34m[\u001b[0m\u001b[0mi\u001b[0m\u001b[0;34m,\u001b[0m \u001b[0mj\u001b[0m\u001b[0;34m]\u001b[0m\u001b[0;34m.\u001b[0m\u001b[0mvalue\u001b[0m \u001b[0;32mif\u001b[0m \u001b[0mresult\u001b[0m\u001b[0;34m[\u001b[0m\u001b[0mi\u001b[0m\u001b[0;34m,\u001b[0m \u001b[0mj\u001b[0m\u001b[0;34m]\u001b[0m\u001b[0;34m.\u001b[0m\u001b[0mvalue\u001b[0m \u001b[0;34m!=\u001b[0m \u001b[0;32mNone\u001b[0m \u001b[0;32mor\u001b[0m \u001b[0mj\u001b[0m \u001b[0;34m==\u001b[0m \u001b[0mvertex\u001b[0m \u001b[0;32melse\u001b[0m \u001b[0;34m-\u001b[0m\u001b[0;36m1\u001b[0m\u001b[0;34m)\u001b[0m\u001b[0;34m\u001b[0m\u001b[0;34m\u001b[0m\u001b[0m\n\u001b[0m\u001b[1;32m     32\u001b[0m         \u001b[0moutput\u001b[0m\u001b[0;34m.\u001b[0m\u001b[0mappend\u001b[0m\u001b[0;34m(\u001b[0m\u001b[0;34m(\u001b[0m\u001b[0mvertex\u001b[0m\u001b[0;34m,\u001b[0m \u001b[0mlevels\u001b[0m\u001b[0;34m)\u001b[0m\u001b[0;34m)\u001b[0m\u001b[0;34m\u001b[0m\u001b[0;34m\u001b[0m\u001b[0m\n\u001b[1;32m     33\u001b[0m \u001b[0;34m\u001b[0m\u001b[0m\n",
            "\u001b[0;32m/usr/local/lib/python3.10/dist-packages/graphblas/core/automethods.py\u001b[0m in \u001b[0;36mvalue\u001b[0;34m(self)\u001b[0m\n\u001b[1;32m    284\u001b[0m \u001b[0;34m\u001b[0m\u001b[0m\n\u001b[1;32m    285\u001b[0m \u001b[0;32mdef\u001b[0m \u001b[0mvalue\u001b[0m\u001b[0;34m(\u001b[0m\u001b[0mself\u001b[0m\u001b[0;34m)\u001b[0m\u001b[0;34m:\u001b[0m\u001b[0;34m\u001b[0m\u001b[0;34m\u001b[0m\u001b[0m\n\u001b[0;32m--> 286\u001b[0;31m     \u001b[0;32mreturn\u001b[0m \u001b[0mself\u001b[0m\u001b[0;34m.\u001b[0m\u001b[0m_get_value\u001b[0m\u001b[0;34m(\u001b[0m\u001b[0;34m\"value\"\u001b[0m\u001b[0;34m)\u001b[0m\u001b[0;34m\u001b[0m\u001b[0;34m\u001b[0m\u001b[0m\n\u001b[0m\u001b[1;32m    287\u001b[0m \u001b[0;34m\u001b[0m\u001b[0m\n\u001b[1;32m    288\u001b[0m \u001b[0;34m\u001b[0m\u001b[0m\n",
            "\u001b[0;32m/usr/local/lib/python3.10/dist-packages/graphblas/core/automethods.py\u001b[0m in \u001b[0;36m_get_value\u001b[0;34m(self, attr, default)\u001b[0m\n\u001b[1;32m     15\u001b[0m     \u001b[0;32mif\u001b[0m \u001b[0mconfig\u001b[0m\u001b[0;34m.\u001b[0m\u001b[0mget\u001b[0m\u001b[0;34m(\u001b[0m\u001b[0;34m\"autocompute\"\u001b[0m\u001b[0;34m)\u001b[0m\u001b[0;34m:\u001b[0m\u001b[0;34m\u001b[0m\u001b[0;34m\u001b[0m\u001b[0m\n\u001b[1;32m     16\u001b[0m         \u001b[0;32mif\u001b[0m \u001b[0mself\u001b[0m\u001b[0;34m.\u001b[0m\u001b[0m_value\u001b[0m \u001b[0;32mis\u001b[0m \u001b[0;32mNone\u001b[0m\u001b[0;34m:\u001b[0m\u001b[0;34m\u001b[0m\u001b[0;34m\u001b[0m\u001b[0m\n\u001b[0;32m---> 17\u001b[0;31m             \u001b[0mself\u001b[0m\u001b[0;34m.\u001b[0m\u001b[0m_value\u001b[0m \u001b[0;34m=\u001b[0m \u001b[0mself\u001b[0m\u001b[0;34m.\u001b[0m\u001b[0mnew\u001b[0m\u001b[0;34m(\u001b[0m\u001b[0;34m)\u001b[0m\u001b[0;34m\u001b[0m\u001b[0;34m\u001b[0m\u001b[0m\n\u001b[0m\u001b[1;32m     18\u001b[0m         \u001b[0;32mif\u001b[0m \u001b[0mattr\u001b[0m \u001b[0;32mis\u001b[0m \u001b[0;32mNone\u001b[0m\u001b[0;34m:\u001b[0m\u001b[0;34m\u001b[0m\u001b[0;34m\u001b[0m\u001b[0m\n\u001b[1;32m     19\u001b[0m             \u001b[0;32mreturn\u001b[0m \u001b[0mself\u001b[0m\u001b[0;34m.\u001b[0m\u001b[0m_value\u001b[0m\u001b[0;34m\u001b[0m\u001b[0;34m\u001b[0m\u001b[0m\n",
            "\u001b[0;32m/usr/local/lib/python3.10/dist-packages/graphblas/core/scalar.py\u001b[0m in \u001b[0;36mnew\u001b[0;34m(self, dtype, is_cscalar, name, **opts)\u001b[0m\n\u001b[1;32m   1062\u001b[0m         \u001b[0;32mif\u001b[0m \u001b[0mis_cscalar\u001b[0m \u001b[0;32mis\u001b[0m \u001b[0;32mNone\u001b[0m\u001b[0;34m:\u001b[0m\u001b[0;34m\u001b[0m\u001b[0;34m\u001b[0m\u001b[0m\n\u001b[1;32m   1063\u001b[0m             \u001b[0mis_cscalar\u001b[0m \u001b[0;34m=\u001b[0m \u001b[0;32mFalse\u001b[0m\u001b[0;34m\u001b[0m\u001b[0;34m\u001b[0m\u001b[0m\n\u001b[0;32m-> 1064\u001b[0;31m         return self.parent._extract_element(\n\u001b[0m\u001b[1;32m   1065\u001b[0m             \u001b[0mself\u001b[0m\u001b[0;34m.\u001b[0m\u001b[0mresolved_indexes\u001b[0m\u001b[0;34m,\u001b[0m \u001b[0mdtype\u001b[0m\u001b[0;34m,\u001b[0m \u001b[0mopts\u001b[0m\u001b[0;34m,\u001b[0m \u001b[0mis_cscalar\u001b[0m\u001b[0;34m=\u001b[0m\u001b[0mis_cscalar\u001b[0m\u001b[0;34m,\u001b[0m \u001b[0mname\u001b[0m\u001b[0;34m=\u001b[0m\u001b[0mname\u001b[0m\u001b[0;34m\u001b[0m\u001b[0;34m\u001b[0m\u001b[0m\n\u001b[1;32m   1066\u001b[0m         )\n",
            "\u001b[0;32m/usr/local/lib/python3.10/dist-packages/graphblas/core/matrix.py\u001b[0m in \u001b[0;36m_extract_element\u001b[0;34m(self, resolved_indexes, dtype, opts, is_cscalar, name, result)\u001b[0m\n\u001b[1;32m   3029\u001b[0m             \u001b[0mrowidx\u001b[0m\u001b[0;34m,\u001b[0m \u001b[0mcolidx\u001b[0m \u001b[0;34m=\u001b[0m \u001b[0mcolidx\u001b[0m\u001b[0;34m,\u001b[0m \u001b[0mrowidx\u001b[0m\u001b[0;34m\u001b[0m\u001b[0;34m\u001b[0m\u001b[0m\n\u001b[1;32m   3030\u001b[0m         \u001b[0;32mif\u001b[0m \u001b[0mresult\u001b[0m \u001b[0;32mis\u001b[0m \u001b[0;32mNone\u001b[0m\u001b[0;34m:\u001b[0m\u001b[0;34m\u001b[0m\u001b[0;34m\u001b[0m\u001b[0m\n\u001b[0;32m-> 3031\u001b[0;31m             \u001b[0mresult\u001b[0m \u001b[0;34m=\u001b[0m \u001b[0mScalar\u001b[0m\u001b[0;34m(\u001b[0m\u001b[0mdtype\u001b[0m\u001b[0;34m,\u001b[0m \u001b[0mis_cscalar\u001b[0m\u001b[0;34m=\u001b[0m\u001b[0mis_cscalar\u001b[0m\u001b[0;34m,\u001b[0m \u001b[0mname\u001b[0m\u001b[0;34m=\u001b[0m\u001b[0mname\u001b[0m\u001b[0;34m)\u001b[0m\u001b[0;34m\u001b[0m\u001b[0;34m\u001b[0m\u001b[0m\n\u001b[0m\u001b[1;32m   3032\u001b[0m         \u001b[0;32mif\u001b[0m \u001b[0mopts\u001b[0m\u001b[0;34m:\u001b[0m\u001b[0;34m\u001b[0m\u001b[0;34m\u001b[0m\u001b[0m\n\u001b[1;32m   3033\u001b[0m             \u001b[0;31m# Ignore opts for now\u001b[0m\u001b[0;34m\u001b[0m\u001b[0;34m\u001b[0m\u001b[0m\n",
            "\u001b[0;32m/usr/local/lib/python3.10/dist-packages/graphblas/core/scalar.py\u001b[0m in \u001b[0;36m__new__\u001b[0;34m(cls, dtype, is_cscalar, name)\u001b[0m\n\u001b[1;32m     80\u001b[0m         \u001b[0;32melse\u001b[0m\u001b[0;34m:\u001b[0m\u001b[0;34m\u001b[0m\u001b[0;34m\u001b[0m\u001b[0m\n\u001b[1;32m     81\u001b[0m             \u001b[0mself\u001b[0m\u001b[0;34m.\u001b[0m\u001b[0mgb_obj\u001b[0m \u001b[0;34m=\u001b[0m \u001b[0mffi_new\u001b[0m\u001b[0;34m(\u001b[0m\u001b[0;34m\"GrB_Scalar*\"\u001b[0m\u001b[0;34m)\u001b[0m\u001b[0;34m\u001b[0m\u001b[0;34m\u001b[0m\u001b[0m\n\u001b[0;32m---> 82\u001b[0;31m             \u001b[0mcall\u001b[0m\u001b[0;34m(\u001b[0m\u001b[0;34m\"GrB_Scalar_new\"\u001b[0m\u001b[0;34m,\u001b[0m \u001b[0;34m[\u001b[0m\u001b[0m_Pointer\u001b[0m\u001b[0;34m(\u001b[0m\u001b[0mself\u001b[0m\u001b[0;34m)\u001b[0m\u001b[0;34m,\u001b[0m \u001b[0mdtype\u001b[0m\u001b[0;34m]\u001b[0m\u001b[0;34m)\u001b[0m\u001b[0;34m\u001b[0m\u001b[0;34m\u001b[0m\u001b[0m\n\u001b[0m\u001b[1;32m     83\u001b[0m         \u001b[0;32mreturn\u001b[0m \u001b[0mself\u001b[0m\u001b[0;34m\u001b[0m\u001b[0;34m\u001b[0m\u001b[0m\n\u001b[1;32m     84\u001b[0m \u001b[0;34m\u001b[0m\u001b[0m\n",
            "\u001b[0;32m/usr/local/lib/python3.10/dist-packages/graphblas/core/base.py\u001b[0m in \u001b[0;36mcall\u001b[0;34m(cfunc_name, args)\u001b[0m\n\u001b[1;32m     23\u001b[0m \u001b[0;32mdef\u001b[0m \u001b[0mcall\u001b[0m\u001b[0;34m(\u001b[0m\u001b[0mcfunc_name\u001b[0m\u001b[0;34m,\u001b[0m \u001b[0margs\u001b[0m\u001b[0;34m)\u001b[0m\u001b[0;34m:\u001b[0m\u001b[0;34m\u001b[0m\u001b[0;34m\u001b[0m\u001b[0m\n\u001b[1;32m     24\u001b[0m     \u001b[0mcall_args\u001b[0m \u001b[0;34m=\u001b[0m \u001b[0;34m[\u001b[0m\u001b[0mgetattr\u001b[0m\u001b[0;34m(\u001b[0m\u001b[0mx\u001b[0m\u001b[0;34m,\u001b[0m \u001b[0;34m\"_carg\"\u001b[0m\u001b[0;34m,\u001b[0m \u001b[0mx\u001b[0m\u001b[0;34m)\u001b[0m \u001b[0;32mif\u001b[0m \u001b[0mx\u001b[0m \u001b[0;32mis\u001b[0m \u001b[0;32mnot\u001b[0m \u001b[0;32mNone\u001b[0m \u001b[0;32melse\u001b[0m \u001b[0mNULL\u001b[0m \u001b[0;32mfor\u001b[0m \u001b[0mx\u001b[0m \u001b[0;32min\u001b[0m \u001b[0margs\u001b[0m\u001b[0;34m]\u001b[0m\u001b[0;34m\u001b[0m\u001b[0;34m\u001b[0m\u001b[0m\n\u001b[0;32m---> 25\u001b[0;31m     \u001b[0mcfunc\u001b[0m \u001b[0;34m=\u001b[0m \u001b[0mlibget\u001b[0m\u001b[0;34m(\u001b[0m\u001b[0mcfunc_name\u001b[0m\u001b[0;34m)\u001b[0m\u001b[0;34m\u001b[0m\u001b[0;34m\u001b[0m\u001b[0m\n\u001b[0m\u001b[1;32m     26\u001b[0m     \u001b[0;32mtry\u001b[0m\u001b[0;34m:\u001b[0m\u001b[0;34m\u001b[0m\u001b[0;34m\u001b[0m\u001b[0m\n\u001b[1;32m     27\u001b[0m         \u001b[0merr_code\u001b[0m \u001b[0;34m=\u001b[0m \u001b[0mcfunc\u001b[0m\u001b[0;34m(\u001b[0m\u001b[0;34m*\u001b[0m\u001b[0mcall_args\u001b[0m\u001b[0;34m)\u001b[0m\u001b[0;34m\u001b[0m\u001b[0;34m\u001b[0m\u001b[0m\n",
            "\u001b[0;32m/usr/local/lib/python3.10/dist-packages/graphblas/core/utils.py\u001b[0m in \u001b[0;36mlibget\u001b[0;34m(name)\u001b[0m\n\u001b[1;32m     10\u001b[0m     \u001b[0;34m\"\"\"Helper to get items from GraphBLAS which might be GrB or GxB.\"\"\"\u001b[0m\u001b[0;34m\u001b[0m\u001b[0;34m\u001b[0m\u001b[0m\n\u001b[1;32m     11\u001b[0m     \u001b[0;32mtry\u001b[0m\u001b[0;34m:\u001b[0m\u001b[0;34m\u001b[0m\u001b[0;34m\u001b[0m\u001b[0m\n\u001b[0;32m---> 12\u001b[0;31m         \u001b[0;32mreturn\u001b[0m \u001b[0mgetattr\u001b[0m\u001b[0;34m(\u001b[0m\u001b[0mlib\u001b[0m\u001b[0;34m,\u001b[0m \u001b[0mname\u001b[0m\u001b[0;34m)\u001b[0m\u001b[0;34m\u001b[0m\u001b[0;34m\u001b[0m\u001b[0m\n\u001b[0m\u001b[1;32m     13\u001b[0m     \u001b[0;32mexcept\u001b[0m \u001b[0mAttributeError\u001b[0m\u001b[0;34m:\u001b[0m\u001b[0;34m\u001b[0m\u001b[0;34m\u001b[0m\u001b[0m\n\u001b[1;32m     14\u001b[0m         \u001b[0;32mif\u001b[0m \u001b[0mname\u001b[0m\u001b[0;34m[\u001b[0m\u001b[0;34m-\u001b[0m\u001b[0;36m4\u001b[0m\u001b[0;34m:\u001b[0m\u001b[0;34m]\u001b[0m \u001b[0;32mnot\u001b[0m \u001b[0;32min\u001b[0m \u001b[0;34m{\u001b[0m\u001b[0;34m\"FC32\"\u001b[0m\u001b[0;34m,\u001b[0m \u001b[0;34m\"FC64\"\u001b[0m\u001b[0;34m,\u001b[0m \u001b[0;34m\"rror\"\u001b[0m\u001b[0;34m}\u001b[0m\u001b[0;34m:\u001b[0m\u001b[0;34m\u001b[0m\u001b[0;34m\u001b[0m\u001b[0m\n",
            "\u001b[0;31mKeyboardInterrupt\u001b[0m: "
          ]
        }
      ]
    },
    {
      "cell_type": "markdown",
      "source": [
        "тестируем время выполнения MSFBS_levels"
      ],
      "metadata": {
        "id": "m-Auum859bge"
      }
    },
    {
      "cell_type": "markdown",
      "source": [
        "При увеличении количества стартовых вершин – увеличивается время выполнения\n",
        "При увеличении размера графа – увеличивается время выполнения\n",
        "Чем разреженее граф, тем меньше время выполнение.\n"
      ],
      "metadata": {
        "id": "JvX93m-AulV8"
      }
    },
    {
      "cell_type": "code",
      "source": [
        "for m in M:\n",
        "        start = time.time()\n",
        "        MSFBS_levels(m, vertices)\n",
        "        print(f\"Time {m.nrows} vertices and nonzeros {m.nvals} is {time.time() - start}s\")\n"
      ],
      "metadata": {
        "colab": {
          "base_uri": "https://localhost:8080/"
        },
        "id": "PvCZkVQn9dT0",
        "outputId": "e6d03e9a-03e7-4b2a-87ab-b1629e65d386"
      },
      "execution_count": 87,
      "outputs": [
        {
          "output_type": "stream",
          "name": "stdout",
          "text": [
            "Time 6927 vertices and nonzeros 16944 is 1.863823652267456s\n",
            "Time 5488 vertices and nonzeros 14170 is 2.1962616443634033s\n",
            "Time 5822 vertices and nonzeros 14750 is 1.6440470218658447s\n",
            "Time 6100 vertices and nonzeros 15030 is 1.4226353168487549s\n",
            "Time 2048 vertices and nonzeros 12254 is 0.5446221828460693s\n",
            "Time 23133 vertices and nonzeros 186936 is 5.816061496734619s\n",
            "Time 8192 vertices and nonzeros 49094 is 2.8471436500549316s\n",
            "Time 16384 vertices and nonzeros 98244 is 5.150265216827393s\n",
            "Time 4096 vertices and nonzeros 24528 is 1.2177503108978271s\n",
            "Time 32768 vertices and nonzeros 196548 is 11.353052139282227s\n"
          ]
        }
      ]
    },
    {
      "cell_type": "markdown",
      "source": [
        "тестируем время выполнения MSFBS_parents"
      ],
      "metadata": {
        "id": "jsClpMK99XEt"
      }
    },
    {
      "cell_type": "markdown",
      "source": [
        "При увеличении количества стартовых вершин – увеличивается время выполнения\n",
        "При увеличении размера графа – увеличивается время выполнения\n",
        "Чем разреженее граф, тем меньше время выполнение. У \"среднего\" по разреженности графа получились наилучшее время\n"
      ],
      "metadata": {
        "id": "PeICKVMdu568"
      }
    },
    {
      "cell_type": "code",
      "source": [
        "import time\n",
        "\n",
        "for m in M:\n",
        "        start = time.time()\n",
        "        MSFBS_parents(m, vertices)\n",
        "        print(f\"Time {m.nrows} rows, {m.ncols} cols and nonzeros {m.nvals} is {time.time() - start}s\")\n"
      ],
      "metadata": {
        "colab": {
          "base_uri": "https://localhost:8080/"
        },
        "id": "-xV0LDKh5ETr",
        "outputId": "62e8dbdc-1cb9-43a3-bac5-c27b092b500d"
      },
      "execution_count": 88,
      "outputs": [
        {
          "output_type": "stream",
          "name": "stdout",
          "text": [
            "Time 6927 rows, 6927 cols and nonzeros 16944 is 1.222470998764038s\n",
            "Time 5488 rows, 5488 cols and nonzeros 14170 is 0.5095062255859375s\n",
            "Time 5822 rows, 5822 cols and nonzeros 14750 is 0.5562257766723633s\n",
            "Time 6100 rows, 6100 cols and nonzeros 15030 is 0.6076211929321289s\n",
            "Time 2048 rows, 2048 cols and nonzeros 12254 is 0.22636127471923828s\n",
            "Time 23133 rows, 23133 cols and nonzeros 186936 is 2.236506223678589s\n",
            "Time 8192 rows, 8192 cols and nonzeros 49094 is 0.8522815704345703s\n",
            "Time 16384 rows, 16384 cols and nonzeros 98244 is 1.6312179565429688s\n",
            "Time 4096 rows, 4096 cols and nonzeros 24528 is 0.4186058044433594s\n",
            "Time 32768 rows, 32768 cols and nonzeros 196548 is 4.297213315963745s\n"
          ]
        }
      ]
    },
    {
      "cell_type": "markdown",
      "source": [
        "самое долгое время выполнения у сильно разреженных графов с большим количество вершин, самое маленькое - с наименьшим количеством вершин"
      ],
      "metadata": {
        "id": "3Nc1wvM89TDd"
      }
    },
    {
      "cell_type": "markdown",
      "source": [
        " * (+3 балла) Добавить реализации описанных алгоритмов с использованием других полуколец (any.pair для levels и any.first для parents). Добавить тесты для проверки корректности. Провести экспериментальное исследование со сравнением этих реализаций с первоначальными на различных графах."
      ],
      "metadata": {
        "id": "VeOxmv_SXXSY"
      }
    },
    {
      "cell_type": "code",
      "source": [
        "import graphblas as gb\n",
        "from graphblas import Matrix, Vector, binary, semiring, dtypes\n",
        "\n",
        "def MSFBS_parents_any_first(A, vertices):\n",
        "    N = A.nrows\n",
        "    index_ramp = Vector(dtypes.UINT64, N)\n",
        "    index_ramp.build(range(N), range(N))\n",
        "    output = []\n",
        "    for vertex in vertices:\n",
        "        parents = Vector(dtypes.INT64, N)\n",
        "        parents[vertex] << -1\n",
        "        wavefront = Vector(dtypes.INT64, N)\n",
        "        wavefront[vertex] << 1\n",
        "        while wavefront.nvals > 0:\n",
        "            wavefront << index_ramp.ewise_mult(wavefront, binary.first)\n",
        "            wavefront(~parents.S, replace=True) << wavefront.vxm(A, semiring.any_first)\n",
        "            parents(binary.plus) << wavefront\n",
        "        output.append((vertex, [parents.get(i, default=-2) for i in range(N)]))\n",
        "    return output\n",
        "\n",
        "MSFBS_parents_any_first(A, vertices)"
      ],
      "metadata": {
        "id": "NMM18UmHXYUt",
        "colab": {
          "base_uri": "https://localhost:8080/"
        },
        "outputId": "f0a3c387-a07d-419e-aa5a-5ab979224571"
      },
      "execution_count": 44,
      "outputs": [
        {
          "output_type": "execute_result",
          "data": {
            "text/plain": [
              "[(1, [3, -1, 6, 6, 1, 4, 1]),\n",
              " (2, [-2, -2, -1, -2, -2, 2, -2]),\n",
              " (3, [3, 0, 3, -1, 1, 2, 1])]"
            ]
          },
          "metadata": {},
          "execution_count": 44
        }
      ]
    },
    {
      "cell_type": "code",
      "source": [
        "import graphblas as gb\n",
        "\n",
        "def MSFBS_levels_any_pair(A, vertices):\n",
        "    n = A.nrows\n",
        "    result = gb.Matrix(int, len(vertices), n)  # vector for result with levels\n",
        "\n",
        "    #колво столбцов = колво верщин графа, колво строк = колво стартовых вершин\n",
        "    f = gb.Matrix(int, len(vertices), n)  # frontier\n",
        "\n",
        "    for i in range (len(vertices)):\n",
        "        f[i, vertices[i]]<< True #создать пустую матрицу и проставить единички в цикле\n",
        "\n",
        "    succ =Vector(bool,len(vertices))\n",
        "    #matrix = gb.Matrix.from_vectors([f1, f2, f3])\n",
        "    level = 0  # level in BFS traversal\n",
        "    while True:\n",
        "        # Assign the depth level to the frontier\n",
        "        result(f.V) << level\n",
        "\n",
        "        # Compute the next frontier, masking out anything already assigned\n",
        "        f(~result.S, replace=True) << f.mxm(A, gb.semiring.any_pair)\n",
        "\n",
        "        # If the next frontier is empty, we're done\n",
        "        succ << f.reduce_rowwise(monoid.lor)\n",
        "        level += 1\n",
        "\n",
        "        if succ.nvals == 0:\n",
        "          break\n",
        "\n",
        "\n",
        "    output = []\n",
        "    for i, vertex in enumerate(vertices):\n",
        "        levels = []\n",
        "        for j in range(n):\n",
        "            levels.append(result[i, j].value if result[i, j].value is not None or j == vertex else -1)\n",
        "        output.append((vertex, levels))\n",
        "\n",
        "    return output\n",
        "vertices=[0,2,3]\n",
        "MSFBS_levels_any_pair(A, vertices)"
      ],
      "metadata": {
        "colab": {
          "base_uri": "https://localhost:8080/"
        },
        "id": "8Zt-y8NQ1OyR",
        "outputId": "db73f855-14c8-48f4-b3f0-960838fcfe87"
      },
      "execution_count": 53,
      "outputs": [
        {
          "output_type": "execute_result",
          "data": {
            "text/plain": [
              "[(0, [0, 1, 2, 1, 2, 3, 2]),\n",
              " (2, [-1, -1, 0, -1, -1, 1, -1]),\n",
              " (3, [1, 2, 1, 0, 3, 2, 3])]"
            ]
          },
          "metadata": {},
          "execution_count": 53
        }
      ]
    },
    {
      "cell_type": "markdown",
      "source": [
        "Значения, полученные двумя способами, совпадают"
      ],
      "metadata": {
        "id": "hBplCpTBBDmI"
      }
    }
  ]
}