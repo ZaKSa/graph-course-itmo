{
  "nbformat": 4,
  "nbformat_minor": 0,
  "metadata": {
    "colab": {
      "provenance": [],
      "authorship_tag": "ABX9TyMojAvaiNBWlQxMXDyBYW7v"
    },
    "kernelspec": {
      "name": "python3",
      "display_name": "Python 3"
    },
    "language_info": {
      "name": "python"
    }
  },
  "cells": [
    {
      "cell_type": "markdown",
      "source": [
        "установим все необходимые библиотеки"
      ],
      "metadata": {
        "id": "hzlWyk2qq2XN"
      }
    },
    {
      "cell_type": "code",
      "execution_count": null,
      "metadata": {
        "id": "BSwvhadH-Eon",
        "colab": {
          "base_uri": "https://localhost:8080/"
        },
        "outputId": "6ba8e5e4-4b7c-4597-94db-cc8f226ec9d2"
      },
      "outputs": [
        {
          "output_type": "stream",
          "name": "stdout",
          "text": [
            "Collecting python-graphblas[default]\n",
            "  Downloading python_graphblas-2024.2.0-py3-none-any.whl (350 kB)\n",
            "\u001b[2K     \u001b[90m━━━━━━━━━━━━━━━━━━━━━━━━━━━━━━━━━━━━━━━━\u001b[0m \u001b[32m350.9/350.9 kB\u001b[0m \u001b[31m3.8 MB/s\u001b[0m eta \u001b[36m0:00:00\u001b[0m\n",
            "\u001b[?25hRequirement already satisfied: numpy>=1.22 in /usr/local/lib/python3.10/dist-packages (from python-graphblas[default]) (1.25.2)\n",
            "Collecting donfig>=0.6 (from python-graphblas[default])\n",
            "  Downloading donfig-0.8.1.post0-py3-none-any.whl (24 kB)\n",
            "Requirement already satisfied: pyyaml>=5.4 in /usr/local/lib/python3.10/dist-packages (from python-graphblas[default]) (6.0.1)\n",
            "Collecting suitesparse-graphblas<9,>=7.4.0.0 (from python-graphblas[default])\n",
            "  Downloading suitesparse_graphblas-8.2.1.0-cp310-cp310-manylinux_2_17_x86_64.manylinux2014_x86_64.whl (45.7 MB)\n",
            "\u001b[2K     \u001b[90m━━━━━━━━━━━━━━━━━━━━━━━━━━━━━━━━━━━━━━━━\u001b[0m \u001b[32m45.7/45.7 MB\u001b[0m \u001b[31m10.2 MB/s\u001b[0m eta \u001b[36m0:00:00\u001b[0m\n",
            "\u001b[?25hRequirement already satisfied: numba>=0.55 in /usr/local/lib/python3.10/dist-packages (from python-graphblas[default]) (0.58.1)\n",
            "Requirement already satisfied: llvmlite<0.42,>=0.41.0dev0 in /usr/local/lib/python3.10/dist-packages (from numba>=0.55->python-graphblas[default]) (0.41.1)\n",
            "Requirement already satisfied: cffi>=1.11 in /usr/local/lib/python3.10/dist-packages (from suitesparse-graphblas<9,>=7.4.0.0->python-graphblas[default]) (1.16.0)\n",
            "Requirement already satisfied: scipy>=1.9 in /usr/local/lib/python3.10/dist-packages (from python-graphblas[default]) (1.11.4)\n",
            "Requirement already satisfied: pandas>=1.2 in /usr/local/lib/python3.10/dist-packages (from python-graphblas[default]) (2.0.3)\n",
            "Requirement already satisfied: pycparser in /usr/local/lib/python3.10/dist-packages (from cffi>=1.11->suitesparse-graphblas<9,>=7.4.0.0->python-graphblas[default]) (2.22)\n",
            "Requirement already satisfied: python-dateutil>=2.8.2 in /usr/local/lib/python3.10/dist-packages (from pandas>=1.2->python-graphblas[default]) (2.8.2)\n",
            "Requirement already satisfied: pytz>=2020.1 in /usr/local/lib/python3.10/dist-packages (from pandas>=1.2->python-graphblas[default]) (2023.4)\n",
            "Requirement already satisfied: tzdata>=2022.1 in /usr/local/lib/python3.10/dist-packages (from pandas>=1.2->python-graphblas[default]) (2024.1)\n",
            "Requirement already satisfied: six>=1.5 in /usr/local/lib/python3.10/dist-packages (from python-dateutil>=2.8.2->pandas>=1.2->python-graphblas[default]) (1.16.0)\n",
            "Installing collected packages: donfig, suitesparse-graphblas, python-graphblas\n",
            "Successfully installed donfig-0.8.1.post0 python-graphblas-2024.2.0 suitesparse-graphblas-8.2.1.0\n",
            "Collecting metagraph\n",
            "  Downloading metagraph-0.2.6-py3-none-any.whl (190 kB)\n",
            "\u001b[2K     \u001b[90m━━━━━━━━━━━━━━━━━━━━━━━━━━━━━━━━━━━━━━━━\u001b[0m \u001b[32m190.2/190.2 kB\u001b[0m \u001b[31m3.0 MB/s\u001b[0m eta \u001b[36m0:00:00\u001b[0m\n",
            "\u001b[?25hRequirement already satisfied: numpy in /usr/local/lib/python3.10/dist-packages (from metagraph) (1.25.2)\n",
            "Requirement already satisfied: scipy in /usr/local/lib/python3.10/dist-packages (from metagraph) (1.11.4)\n",
            "Requirement already satisfied: donfig in /usr/local/lib/python3.10/dist-packages (from metagraph) (0.8.1.post0)\n",
            "Requirement already satisfied: networkx in /usr/local/lib/python3.10/dist-packages (from metagraph) (3.3)\n",
            "Requirement already satisfied: pandas in /usr/local/lib/python3.10/dist-packages (from metagraph) (2.0.3)\n",
            "Requirement already satisfied: python-louvain in /usr/local/lib/python3.10/dist-packages (from metagraph) (0.16)\n",
            "Requirement already satisfied: nest-asyncio in /usr/local/lib/python3.10/dist-packages (from metagraph) (1.6.0)\n",
            "Requirement already satisfied: dask[array,dataframe,delayed] in /usr/local/lib/python3.10/dist-packages (from metagraph) (2023.8.1)\n",
            "Requirement already satisfied: graphviz in /usr/local/lib/python3.10/dist-packages (from metagraph) (0.20.3)\n",
            "Requirement already satisfied: click>=8.0 in /usr/local/lib/python3.10/dist-packages (from dask[array,dataframe,delayed]->metagraph) (8.1.7)\n",
            "Requirement already satisfied: cloudpickle>=1.5.0 in /usr/local/lib/python3.10/dist-packages (from dask[array,dataframe,delayed]->metagraph) (2.2.1)\n",
            "Requirement already satisfied: fsspec>=2021.09.0 in /usr/local/lib/python3.10/dist-packages (from dask[array,dataframe,delayed]->metagraph) (2023.6.0)\n",
            "Requirement already satisfied: packaging>=20.0 in /usr/local/lib/python3.10/dist-packages (from dask[array,dataframe,delayed]->metagraph) (24.0)\n",
            "Requirement already satisfied: partd>=1.2.0 in /usr/local/lib/python3.10/dist-packages (from dask[array,dataframe,delayed]->metagraph) (1.4.2)\n",
            "Requirement already satisfied: pyyaml>=5.3.1 in /usr/local/lib/python3.10/dist-packages (from dask[array,dataframe,delayed]->metagraph) (6.0.1)\n",
            "Requirement already satisfied: toolz>=0.10.0 in /usr/local/lib/python3.10/dist-packages (from dask[array,dataframe,delayed]->metagraph) (0.12.1)\n",
            "Requirement already satisfied: importlib-metadata>=4.13.0 in /usr/local/lib/python3.10/dist-packages (from dask[array,dataframe,delayed]->metagraph) (7.1.0)\n",
            "Requirement already satisfied: python-dateutil>=2.8.2 in /usr/local/lib/python3.10/dist-packages (from pandas->metagraph) (2.8.2)\n",
            "Requirement already satisfied: pytz>=2020.1 in /usr/local/lib/python3.10/dist-packages (from pandas->metagraph) (2023.4)\n",
            "Requirement already satisfied: tzdata>=2022.1 in /usr/local/lib/python3.10/dist-packages (from pandas->metagraph) (2024.1)\n",
            "Requirement already satisfied: zipp>=0.5 in /usr/local/lib/python3.10/dist-packages (from importlib-metadata>=4.13.0->dask[array,dataframe,delayed]->metagraph) (3.18.1)\n",
            "Requirement already satisfied: locket in /usr/local/lib/python3.10/dist-packages (from partd>=1.2.0->dask[array,dataframe,delayed]->metagraph) (1.0.0)\n",
            "Requirement already satisfied: six>=1.5 in /usr/local/lib/python3.10/dist-packages (from python-dateutil>=2.8.2->pandas->metagraph) (1.16.0)\n",
            "Installing collected packages: metagraph\n",
            "Successfully installed metagraph-0.2.6\n"
          ]
        }
      ],
      "source": [
        "!pip install python-graphblas[default]\n",
        "!pip install metagraph"
      ]
    },
    {
      "cell_type": "code",
      "source": [
        "import graphblas as gb\n",
        "from metagraph import concrete_algorithm, NodeID\n",
        "from metagraph.plugins import has_grblas\n",
        "from metagraph.plugins.core import exceptions\n",
        "from typing import Tuple, Iterable, Any, Union, Optional\n",
        "import numpy as np\n",
        "\n",
        "gb.init(\"suitesparse\", blocking=False)\n",
        "\n",
        "from graphblas import Matrix, dtypes, unary, binary, monoid, semiring, Recorder\n",
        "from graphblas.io import mmread"
      ],
      "metadata": {
        "id": "LJaHeXeb6b1z"
      },
      "execution_count": null,
      "outputs": []
    },
    {
      "cell_type": "markdown",
      "source": [
        "Скачаем 10 графов в формате Matrix Market с сайта SuiteSparse Matrix Collection"
      ],
      "metadata": {
        "id": "CGe5bVN2L4fq"
      }
    },
    {
      "cell_type": "code",
      "source": [
        "M1 = mmread('/content/sample_data/Untitled Folder/Erdos02.mtx')\n",
        "M2 = mmread('/content/sample_data/Untitled Folder/Erdos972.mtx')\n",
        "M3 = mmread('/content/sample_data/Untitled Folder/Erdos982.mtx')\n",
        "M4 = mmread('/content/sample_data/Untitled Folder/Erdos992.mtx')\n",
        "M5 = mmread('/content/sample_data/Untitled Folder/delaunay_n11.mtx')#/content/sample_data/Untitled Folder/ca-AstroPh.mtx\n",
        "M6 = mmread('/content/sample_data/Untitled Folder/ca-CondMat.mtx')\n",
        "M7 = mmread('/content/sample_data/Untitled Folder/delaunay_n13.mtx')\n",
        "M8 = mmread('/content/sample_data/Untitled Folder/delaunay_n14.mtx')\n",
        "M9 = mmread('/content/sample_data/Untitled Folder/delaunay_n12.mtx')#/content/sample_data/Untitled Folder/dblp-2010.mtx\n",
        "M10 = mmread('/content/sample_data/Untitled Folder/delaunay_n15.mtx')"
      ],
      "metadata": {
        "id": "sj9i6EFIWS-2"
      },
      "execution_count": 73,
      "outputs": []
    },
    {
      "cell_type": "markdown",
      "source": [
        "Попробовала визуилизировать каждый из них, что-то страшное:)"
      ],
      "metadata": {
        "id": "STDVSzn1rG99"
      }
    },
    {
      "cell_type": "code",
      "source": [
        "gb.viz.draw(M1)"
      ],
      "metadata": {
        "colab": {
          "base_uri": "https://localhost:8080/",
          "height": 406
        },
        "id": "maGTgxSCYCq4",
        "outputId": "c48ad033-24dc-435c-8361-3d11f1e41ab1"
      },
      "execution_count": null,
      "outputs": [
        {
          "output_type": "display_data",
          "data": {
            "text/plain": [
              "<Figure size 640x480 with 1 Axes>"
            ],
            "image/png": "[encoded data removed]"
          },
          "metadata": {}
        }
      ]
    },
    {
      "cell_type": "markdown",
      "source": [
        "Но что-нибудь визуализировать я смогла"
      ],
      "metadata": {
        "id": "AzA5ytAfre3m"
      }
    },
    {
      "cell_type": "code",
      "source": [
        "G = Matrix.from_coo(\n",
        "    [0, 1, 2, 0, 1, 2, 0, 3, 3, 2],\n",
        "    [1, 0, 0, 2, 2, 1, 3, 0, 2, 3],\n",
        "    [1, 1, 1, 1, 1,1, 1, 1, 1, 1],\n",
        "    nrows=10,\n",
        "    ncols=10\n",
        ")\n",
        "gb.viz.draw(G)"
      ],
      "metadata": {
        "colab": {
          "base_uri": "https://localhost:8080/",
          "height": 406
        },
        "id": "d7E0H4lVLXwr",
        "outputId": "7670994a-40c0-4c93-f395-0aee4c1f0a01"
      },
      "execution_count": null,
      "outputs": [
        {
          "output_type": "display_data",
          "data": {
            "text/plain": [
              "<Figure size 640x480 with 1 Axes>"
            ],
            "image/png": "[encoded data removed]"
          },
          "metadata": {}
        }
      ]
    },
    {
      "cell_type": "markdown",
      "source": [
        "* Используя python-graphblas реализовать наивный алгоритм, для матрицы смежности вычисляющий и возвращающий количество треугольников неориентированного графа.\n",
        " Функция принимает представление неориентированного графа, удобное для неё (загрузка, конвертация и проверка неориентированности реализованы отдельно).\n",
        " Функция возвращает число --- количество треугольников в графе.\n",
        "* Используя python-graphblas реализовать наивный алгоритм с маской, для матрицы смежности вычисляющий и возвращающий количество треугольников неориентированного графа.\n",
        " Функция принимает представление неориентированного графа, удобное для неё (загрузка, конвертация и проверка неориентированности реализованы отдельно).\n",
        " Функция возвращает число --- количество треугольников в графе.\n",
        "* Используя python-graphblas реализовать Сohen's algorithm, вычисляющий количество треугольников неориентированного графа.\n",
        " Функция принимает представление неориентированного графа, удобное для неё (загрузка, конвертация и проверка неориентированности реализованы отдельно).\n",
        " Функция возвращает число --- количество треугольников в графе.\n",
        "* Используя python-graphblas реализовать Sandia algorithm, вычисляющий количество треугольников неориентированного графа.\n",
        " Функция принимает представление неориентированного графа, удобное для неё (загрузка, конвертация и проверка неориентированности реализованы отдельно).\n",
        " Функция возвращает число --- количество треугольников в графе."
      ],
      "metadata": {
        "id": "Zra39myXrjjO"
      }
    },
    {
      "cell_type": "code",
      "source": [
        "def naive_triangle_count(A):\n",
        "    A3=A.mxm(A.mxm(A)) # возведем матрицу в куб\n",
        "    result=A3.diag().reduce(gb.agg.sum).value or 0 #берем диагональ(след)\n",
        "    return int(result / 6)\n",
        "\n",
        "def naiveMaskA2(A):\n",
        "    A3=A.mxm(A) #возведем матрицу в квадрат\n",
        "    result=A3.dup(mask=A.dup(dtype=dtypes.BOOL)).reduce_scalar(gb.monoid.plus).value or 0 #применяем маску\n",
        "    return int(result / 6)\n",
        "\n",
        "#эти два варианта подсчетов прям по алгоритму\n",
        "def cohen(A):\n",
        "    L=gb.select.tril(A)#нижняя треугольная матрица\n",
        "    U=gb.select.triu(A)#верхняя\n",
        "    B=L.mxm(U)\n",
        "    C=B.dup(mask=A.dup(dtype=dtypes.BOOL))\n",
        "    t=int(C.reduce_scalar(gb.monoid.plus).value or 0)/2\n",
        "    return t\n",
        "\n",
        "def sandia(A):\n",
        "    L=gb.select.tril(A)#нижняя треугольная матрица\n",
        "    B=L.mxm(L)\n",
        "    C=B.dup(mask=L.dup(dtype=dtypes.BOOL))\n",
        "    t=int(C.reduce_scalar(gb.monoid.plus).value or 0)\n",
        "    return t"
      ],
      "metadata": {
        "id": "F3Bk2b2Y7Er3"
      },
      "execution_count": 68,
      "outputs": []
    },
    {
      "cell_type": "code",
      "source": [
        "def test(A):\n",
        "    result = [naive_triangle_count(A), naiveMaskA2(A), cohen(A), sandia(A)]\n",
        "    print(result)\n",
        "    if not all(element == element for element in result):\n",
        "       print(\"All return values are not equal\")\n",
        "    else:\n",
        "        %timeit naive_triangle_count(A)\n",
        "        %timeit naiveMaskA2(A)\n",
        "        %timeit cohen(A)\n",
        "        %timeit sandia(A)\n",
        "#test(M1)"
      ],
      "metadata": {
        "id": "YLZPD7FjAwoi"
      },
      "execution_count": 70,
      "outputs": []
    },
    {
      "cell_type": "code",
      "source": [
        "test(M2)"
      ],
      "metadata": {
        "colab": {
          "base_uri": "https://localhost:8080/"
        },
        "id": "EAGGZZKdcZJV",
        "outputId": "2bef8ebb-5206-426d-c20f-5cd9814b53df"
      },
      "execution_count": 74,
      "outputs": [
        {
          "output_type": "stream",
          "name": "stdout",
          "text": [
            "[1500, 1500, 1500.0, 1500]\n",
            "50.9 ms ± 24.6 ms per loop (mean ± std. dev. of 7 runs, 10 loops each)\n",
            "2.56 ms ± 1.48 ms per loop (mean ± std. dev. of 7 runs, 100 loops each)\n",
            "2.23 ms ± 983 µs per loop (mean ± std. dev. of 7 runs, 1000 loops each)\n",
            "1.19 ms ± 195 µs per loop (mean ± std. dev. of 7 runs, 1000 loops each)\n"
          ]
        }
      ]
    },
    {
      "cell_type": "code",
      "source": [
        "test(M3)"
      ],
      "metadata": {
        "colab": {
          "base_uri": "https://localhost:8080/"
        },
        "id": "vq9Vw0Y-cac8",
        "outputId": "57d83e7e-1005-4dba-fa90-2132f74d058c"
      },
      "execution_count": null,
      "outputs": [
        {
          "output_type": "stream",
          "name": "stdout",
          "text": [
            "[1595, 1595, 1595.0, 1595]\n",
            "38 ms ± 2.78 ms per loop (mean ± std. dev. of 7 runs, 10 loops each)\n",
            "2.04 ms ± 844 µs per loop (mean ± std. dev. of 7 runs, 1000 loops each)\n",
            "2.02 ms ± 826 µs per loop (mean ± std. dev. of 7 runs, 1000 loops each)\n",
            "1.13 ms ± 164 µs per loop (mean ± std. dev. of 7 runs, 1000 loops each)\n"
          ]
        }
      ]
    },
    {
      "cell_type": "code",
      "source": [
        "test(M4)"
      ],
      "metadata": {
        "colab": {
          "base_uri": "https://localhost:8080/"
        },
        "id": "Ygm8HQlMcblG",
        "outputId": "b48fcc4a-96ed-4f0b-86ed-13094cfdfae1"
      },
      "execution_count": null,
      "outputs": [
        {
          "output_type": "stream",
          "name": "stdout",
          "text": [
            "[1610, 1610, 1610.0, 1610]\n",
            "38.9 ms ± 3.48 ms per loop (mean ± std. dev. of 7 runs, 10 loops each)\n",
            "2.02 ms ± 862 µs per loop (mean ± std. dev. of 7 runs, 1000 loops each)\n",
            "2.08 ms ± 830 µs per loop (mean ± std. dev. of 7 runs, 1000 loops each)\n",
            "1.27 ms ± 221 µs per loop (mean ± std. dev. of 7 runs, 1000 loops each)\n"
          ]
        }
      ]
    },
    {
      "cell_type": "code",
      "source": [
        "test(M5)"
      ],
      "metadata": {
        "colab": {
          "base_uri": "https://localhost:8080/"
        },
        "id": "IP1Y99W7cc6k",
        "outputId": "84ca1b4f-e6d1-4688-9304-e4bf24888c75"
      },
      "execution_count": null,
      "outputs": [
        {
          "output_type": "stream",
          "name": "stdout",
          "text": [
            "[4104, 4104, 4104.0, 4104]\n",
            "13.1 ms ± 5.15 ms per loop (mean ± std. dev. of 7 runs, 100 loops each)\n",
            "2.17 ms ± 494 µs per loop (mean ± std. dev. of 7 runs, 1000 loops each)\n",
            "1.89 ms ± 333 µs per loop (mean ± std. dev. of 7 runs, 1000 loops each)\n",
            "1.29 ms ± 443 µs per loop (mean ± std. dev. of 7 runs, 1000 loops each)\n"
          ]
        }
      ]
    },
    {
      "cell_type": "code",
      "source": [
        "test(M6)"
      ],
      "metadata": {
        "colab": {
          "base_uri": "https://localhost:8080/"
        },
        "id": "UzeQpTVxcd5E",
        "outputId": "6d6f698c-edce-4dab-fe76-cd8a53c284d2"
      },
      "execution_count": null,
      "outputs": [
        {
          "output_type": "stream",
          "name": "stdout",
          "text": [
            "[174692, 174692, 175335.0, 176063]\n",
            "1.34 s ± 294 ms per loop (mean ± std. dev. of 7 runs, 1 loop each)\n",
            "35.6 ms ± 1.08 ms per loop (mean ± std. dev. of 7 runs, 10 loops each)\n",
            "22.6 ms ± 8.62 ms per loop (mean ± std. dev. of 7 runs, 100 loops each)\n",
            "13.5 ms ± 3.7 ms per loop (mean ± std. dev. of 7 runs, 100 loops each)\n"
          ]
        }
      ]
    },
    {
      "cell_type": "code",
      "source": [
        "test(M7)"
      ],
      "metadata": {
        "colab": {
          "base_uri": "https://localhost:8080/"
        },
        "id": "xAjthioocfKN",
        "outputId": "a663d497-9a7d-41d0-fc99-4984083bf6f9"
      },
      "execution_count": null,
      "outputs": [
        {
          "output_type": "stream",
          "name": "stdout",
          "text": [
            "[16442, 16442, 16442.0, 16442]\n",
            "22.1 ms ± 986 µs per loop (mean ± std. dev. of 7 runs, 10 loops each)\n",
            "The slowest run took 4.84 times longer than the fastest. This could mean that an intermediate result is being cached.\n",
            "9.25 ms ± 7.37 ms per loop (mean ± std. dev. of 7 runs, 100 loops each)\n",
            "3.86 ms ± 154 µs per loop (mean ± std. dev. of 7 runs, 100 loops each)\n",
            "3.22 ms ± 38 µs per loop (mean ± std. dev. of 7 runs, 100 loops each)\n"
          ]
        }
      ]
    },
    {
      "cell_type": "code",
      "source": [
        "test(M8)"
      ],
      "metadata": {
        "colab": {
          "base_uri": "https://localhost:8080/"
        },
        "id": "_IzKCXpCcgG0",
        "outputId": "4e893cdd-3369-41ca-f593-f5bb08cba211"
      },
      "execution_count": null,
      "outputs": [
        {
          "output_type": "stream",
          "name": "stdout",
          "text": [
            "[32921, 32921, 32921.0, 32921]\n",
            "The slowest run took 5.56 times longer than the fastest. This could mean that an intermediate result is being cached.\n",
            "95.3 ms ± 70.4 ms per loop (mean ± std. dev. of 7 runs, 10 loops each)\n",
            "14.5 ms ± 7.6 ms per loop (mean ± std. dev. of 7 runs, 100 loops each)\n",
            "7.42 ms ± 1.15 ms per loop (mean ± std. dev. of 7 runs, 100 loops each)\n",
            "The slowest run took 4.50 times longer than the fastest. This could mean that an intermediate result is being cached.\n",
            "7.18 ms ± 5.69 ms per loop (mean ± std. dev. of 7 runs, 100 loops each)\n"
          ]
        }
      ]
    },
    {
      "cell_type": "code",
      "source": [
        "test(M9)"
      ],
      "metadata": {
        "colab": {
          "base_uri": "https://localhost:8080/"
        },
        "id": "ZjkkcNsYchcF",
        "outputId": "c5ead851-984b-4d1f-b5b3-35640b6884e2"
      },
      "execution_count": null,
      "outputs": [
        {
          "output_type": "stream",
          "name": "stdout",
          "text": [
            "[8215, 8215, 8215.0, 8215]\n",
            "15.7 ms ± 8.99 ms per loop (mean ± std. dev. of 7 runs, 10 loops each)\n",
            "5.31 ms ± 2.84 ms per loop (mean ± std. dev. of 7 runs, 100 loops each)\n",
            "3.14 ms ± 625 µs per loop (mean ± std. dev. of 7 runs, 100 loops each)\n",
            "1.96 ms ± 355 µs per loop (mean ± std. dev. of 7 runs, 1000 loops each)\n"
          ]
        }
      ]
    },
    {
      "cell_type": "code",
      "source": [
        "test(M10)"
      ],
      "metadata": {
        "colab": {
          "base_uri": "https://localhost:8080/"
        },
        "id": "Tb7Mx9Lkci0l",
        "outputId": "758282c1-a00b-4c2d-a6cb-1d190f74fc89"
      },
      "execution_count": null,
      "outputs": [
        {
          "output_type": "stream",
          "name": "stdout",
          "text": [
            "[65872, 65872, 65872.0, 65872]\n",
            "113 ms ± 16 ms per loop (mean ± std. dev. of 7 runs, 10 loops each)\n",
            "The slowest run took 4.27 times longer than the fastest. This could mean that an intermediate result is being cached.\n",
            "50.5 ms ± 29.3 ms per loop (mean ± std. dev. of 7 runs, 10 loops each)\n",
            "13.1 ms ± 569 µs per loop (mean ± std. dev. of 7 runs, 10 loops each)\n",
            "21.8 ms ± 6.98 ms per loop (mean ± std. dev. of 7 runs, 100 loops each)\n"
          ]
        }
      ]
    },
    {
      "cell_type": "markdown",
      "source": [
        "**Вывод:** вообще по хорошему тону математики надо бы сделать усреднение по 12 запускам, но тут и так всё шикарно видно.\n",
        "Хуже всего по времени сеья показал самый наивный способ, для каждого графа считал очень медленно, на втором месте по \"медленности\" - наивный способ с маской\n",
        "и самый шустрый во всех случаях получился Sandia algorithm"
      ],
      "metadata": {
        "id": "WVyZpQvUv5OL"
      }
    },
    {
      "cell_type": "markdown",
      "source": [
        "* Используя python-graphblas реализовать функцию, вычисляющую для каждой вершины неориентированного графа количество треугольников, в которых она участвует.\n",
        " Функция принимает представление неориентированного графа, удобное для неё (загрузка, конвертация и проверка неориентированности реализованы отдельно).\n",
        " Функция возвращает массив, где для каждой вершины указано, в скольки треугольниках она участвует."
      ],
      "metadata": {
        "id": "mRFSFJfLsPin"
      }
    },
    {
      "cell_type": "markdown",
      "source": [
        "Для решения этой задачи первым делом пришла такая идея: взять наивный подсчет треугольников, и след матрицы поделить на 2. **готово**"
      ],
      "metadata": {
        "id": "JqW3Q2LypxKl"
      }
    },
    {
      "cell_type": "code",
      "source": [
        "def v_count(A):\n",
        "    A3=A.mxm(A.mxm(A))\n",
        "    result = A3.diag().apply(lambda x: x//2)\n",
        "    return result\n",
        "v_count(G)"
      ],
      "metadata": {
        "colab": {
          "base_uri": "https://localhost:8080/",
          "height": 148
        },
        "id": "1ugrV4qZpwIF",
        "outputId": "000aa6c5-7b6c-411e-c752-efc9da44a33c"
      },
      "execution_count": null,
      "outputs": [
        {
          "output_type": "execute_result",
          "data": {
            "text/plain": [
              "gb.VectorExpression                  size  dtype\n",
              "v_1145.apply(unary.<lambda>[INT64])    10  INT64\n",
              "\n",
              "\"Result\"   nvals  size  dtype\n",
              "gb.Vector      4    10  INT64\n",
              "-----------------------------\n",
              "index  0  1  2  3 4 5 6 7 8 9\n",
              "value  2  1  2  1            \n",
              "\n",
              "Do expr.new() or other << expr to calculate the expression."
            ],
            "text/html": [
              "<div>\n",
              "<style>\n",
              "table.gb-info-table {\n",
              "    border: 1px solid black;\n",
              "    max-width: 100%;\n",
              "    margin-top: 0px;\n",
              "    margin-bottom: 0px;\n",
              "    padding-top: 0px;\n",
              "    padding-bottom: 0px;\n",
              "}\n",
              "\n",
              "td.gb-info-name-cell {\n",
              "    white-space: nowrap;\n",
              "}\n",
              "\n",
              "details.gb-arg-details {\n",
              "    margin-top: 0px;\n",
              "    margin-bottom: 0px;\n",
              "    padding-top: 0px;\n",
              "    padding-bottom: 5px;\n",
              "    margin-left: 10px;\n",
              "}\n",
              "\n",
              "summary.gb-arg-summary {\n",
              "    display: list-item;\n",
              "    outline: none;\n",
              "    margin-top: 0px;\n",
              "    margin-bottom: 0px;\n",
              "    padding-top: 0px;\n",
              "    padding-bottom: 0px;\n",
              "    margin-left: -10px;\n",
              "}\n",
              "\n",
              "details.gb-expr-details {\n",
              "    margin-top: 0px;\n",
              "    margin-bottom: 0px;\n",
              "    padding-top: 0px;\n",
              "    padding-bottom: 5px;\n",
              "}\n",
              "\n",
              "summary.gb-expr-summary {\n",
              "    display: list-item;\n",
              "    outline: none;\n",
              "    margin-top: 0px;\n",
              "    margin-bottom: 0px;\n",
              "    padding-top: 0px;\n",
              "    padding-bottom: 0px;\n",
              "}\n",
              "\n",
              "blockquote.gb-expr-blockquote {\n",
              "    margin-top: 5px;\n",
              "    margin-bottom: 0px;\n",
              "    padding-top: 0px;\n",
              "    padding-bottom: 0px;\n",
              "    margin-left: 15px;\n",
              "}\n",
              "\n",
              ".gb-scalar {\n",
              "    margin-top: 0px;\n",
              "    margin-bottom: 0px;\n",
              "    padding-top: 0px;\n",
              "    padding-bottom: 5px;\n",
              "}\n",
              "\n",
              "/* modify pandas dataframe */\n",
              "table.dataframe {\n",
              "    margin-top: 0px;\n",
              "    margin-bottom: 0px;\n",
              "    padding-top: 0px;\n",
              "    padding-bottom: 0px;\n",
              "}\n",
              "\n",
              "/* expression tooltips */\n",
              ".expr-tooltip .tooltip-circle {\n",
              "    background: #9a9cc6;\n",
              "    color: #fff;\n",
              "    border-radius: 50%;\n",
              "    width: 40px;\n",
              "    height: 40px;\n",
              "    padding-left: 4px;\n",
              "    padding-right: 4px;\n",
              "}\n",
              ".expr-tooltip .tooltip-text {\n",
              "    visibility: hidden;\n",
              "    position: absolute;\n",
              "    width: 450px;\n",
              "    background: #eef;\n",
              "    border: 1px solid #99a;\n",
              "    text-align: left;\n",
              "    border-radius: 6px;\n",
              "    padding: 3px 3px 3px 8px;\n",
              "    margin-left: 6px;\n",
              "}\n",
              ".expr-tooltip:hover .tooltip-text {\n",
              "    visibility: visible;\n",
              "}\n",
              ".expr-tooltip code {\n",
              "    background-color: #f8ffed;\n",
              "}\n",
              "</style>\n",
              "<details open class=\"gb-arg-details\"><summary class=\"gb-arg-summary\"><tt><b>gb.VectorExpression</b></tt>&nbsp;<span class=\"expr-tooltip\"><span class=\"tooltip-circle\">?</span><span class=\"tooltip-text\"><em>Do <code>expr.new()</code> or <code>other << expr</code> to calculate the expression.</em></span></span><div>\n",
              "<table class=\"gb-info-table\">\n",
              "  <tr>\n",
              "    <td rowspan=\"2\" class=\"gb-info-name-cell\"><pre>v<sub>1145</sub>.apply(unary.<lambda>[INT64])</pre></td>\n",
              "    <td><pre>nvals</pre></td>\n",
              "    <td><pre>size</pre></td>\n",
              "    <td><pre>dtype</pre></td>\n",
              "  </tr>\n",
              "  <tr>\n",
              "    <td>4</td>\n",
              "    <td>10</td>\n",
              "    <td>INT64</td>\n",
              "  </tr>\n",
              "</table>\n",
              "</div>\n",
              "</summary><div>\n",
              "<style scoped>\n",
              "    .dataframe tbody tr th:only-of-type {\n",
              "        vertical-align: middle;\n",
              "    }\n",
              "\n",
              "    .dataframe tbody tr th {\n",
              "        vertical-align: top;\n",
              "    }\n",
              "\n",
              "    .dataframe thead th {\n",
              "        text-align: right;\n",
              "    }\n",
              "</style>\n",
              "<table border=\"1\" class=\"dataframe\">\n",
              "  <thead>\n",
              "    <tr style=\"text-align: right;\">\n",
              "      <th></th>\n",
              "      <th>0</th>\n",
              "      <th>1</th>\n",
              "      <th>2</th>\n",
              "      <th>3</th>\n",
              "      <th>4</th>\n",
              "      <th>5</th>\n",
              "      <th>6</th>\n",
              "      <th>7</th>\n",
              "      <th>8</th>\n",
              "      <th>9</th>\n",
              "    </tr>\n",
              "  </thead>\n",
              "  <tbody>\n",
              "    <tr>\n",
              "      <th></th>\n",
              "      <td>2</td>\n",
              "      <td>1</td>\n",
              "      <td>2</td>\n",
              "      <td>1</td>\n",
              "      <td></td>\n",
              "      <td></td>\n",
              "      <td></td>\n",
              "      <td></td>\n",
              "      <td></td>\n",
              "      <td></td>\n",
              "    </tr>\n",
              "  </tbody>\n",
              "</table>\n",
              "</div></details></div>"
            ]
          },
          "metadata": {},
          "execution_count": 24
        }
      ]
    },
    {
      "cell_type": "markdown",
      "source": [
        "то есть у вершины ноль 2 треугольника, у вершины с индексом 1 - 1 треугольник и так далее"
      ],
      "metadata": {
        "id": "X3x7_BGPuzpK"
      }
    },
    {
      "cell_type": "markdown",
      "source": [
        "* Реализовать генератор случайных неориентированных графов, в котором можно задавать количество вершин и степень разреженности графа. Путём генерации случайных графов различного размера и с разной степенью разреженности, оценить время работы всех полученных реализаций и исследовать границы их применимости. Сделать выводы."
      ],
      "metadata": {
        "id": "cb7FWnHHujgo"
      }
    },
    {
      "cell_type": "markdown",
      "source": [
        "Степень разреженности - nonzeros - количество ненулевых элементов в матрице смежности"
      ],
      "metadata": {
        "id": "-V2cIcX-2IDk"
      }
    },
    {
      "cell_type": "code",
      "source": [
        "from time import time\n",
        "import random\n",
        "\n",
        "def generate_random_graph(n, fill_count):\n",
        "    # n -количество вершин, fill_count - степень разреженности\n",
        "    m = gb.Matrix(int, n, n) #пустая матрица\n",
        "    while fill_count > 0:\n",
        "        i = random.randint(0, n-1)\n",
        "        j = random.randint(0, n-1)\n",
        "        if m.get(i,j) is None and i!= j: #если не пустое место, то ставим симметричную 1\n",
        "            m[i,j] = 1\n",
        "            m[j,i] = 1\n",
        "            fill_count -= 1\n",
        "    return m\n",
        "m = generate_random_graph(3,2)\n",
        "gb.viz.draw(m)\n",
        "print(m)\n",
        "\n",
        "\n",
        "sizes = [100,1000, 5000, 10000, 99999]\n",
        "\n",
        "for size in sizes:\n",
        "  sparsities = [size - 1, 1, size // 2] #неразреженная матрица, разреженная, и 50/50\n",
        "  for sparsity in sparsities:\n",
        "        start = time()\n",
        "        m = generate_random_graph(size, sparsity)\n",
        "        print(f\"Time taken to create a graph with {size} vertices and sparsity {sparsity} is {time() - start}s\")\n"
      ],
      "metadata": {
        "id": "oaODqG4XuimO",
        "colab": {
          "base_uri": "https://localhost:8080/",
          "height": 788
        },
        "outputId": "314e02d9-c323-4292-ceb3-5c80d1b72872"
      },
      "execution_count": null,
      "outputs": [
        {
          "output_type": "display_data",
          "data": {
            "text/plain": [
              "<Figure size 640x480 with 1 Axes>"
            ],
            "image/png": "[encoded data removed]"
          },
          "metadata": {}
        },
        {
          "output_type": "stream",
          "name": "stdout",
          "text": [
            "\"M_91\"     nvals  nrows  ncols  dtype         format\n",
            "gb.Matrix      4      3      3  INT64  bitmapr (iso)\n",
            "----------------------------------------------------\n",
            "   0  1  2\n",
            "0     1  1\n",
            "1  1      \n",
            "2  1      \n",
            "Time taken to create a graph with 100 vertices and sparsity 99 is 0.01980733871459961s\n",
            "Time taken to create a graph with 100 vertices and sparsity 1 is 0.00034546852111816406s\n",
            "Time taken to create a graph with 100 vertices and sparsity 50 is 0.009175300598144531s\n",
            "Time taken to create a graph with 1000 vertices and sparsity 999 is 0.1477038860321045s\n",
            "Time taken to create a graph with 1000 vertices and sparsity 1 is 0.0006873607635498047s\n",
            "Time taken to create a graph with 1000 vertices and sparsity 500 is 0.07701396942138672s\n",
            "Time taken to create a graph with 5000 vertices and sparsity 4999 is 1.3736228942871094s\n",
            "Time taken to create a graph with 5000 vertices and sparsity 1 is 0.0008237361907958984s\n",
            "Time taken to create a graph with 5000 vertices and sparsity 2500 is 0.6040425300598145s\n",
            "Time taken to create a graph with 10000 vertices and sparsity 9999 is 5.449394226074219s\n",
            "Time taken to create a graph with 10000 vertices and sparsity 1 is 0.0002434253692626953s\n",
            "Time taken to create a graph with 10000 vertices and sparsity 5000 is 1.9064209461212158s\n",
            "Time taken to create a graph with 99999 vertices and sparsity 99998 is 354.7348356246948s\n",
            "Time taken to create a graph with 99999 vertices and sparsity 1 is 0.0011448860168457031s\n",
            "Time taken to create a graph with 99999 vertices and sparsity 49999 is 153.3318293094635s\n"
          ]
        }
      ]
    },
    {
      "cell_type": "markdown",
      "source": [],
      "metadata": {
        "id": "WpZSb6euxR1_"
      }
    },
    {
      "cell_type": "code",
      "source": [
        "\n",
        "\n",
        "sizes = [100,1000, 5000, 10000, 99999]\n",
        "\n",
        "for size in sizes:\n",
        "  sparsities = [size - 1, 1, size // 2] #неразреженная матрица, разреженная, и 50/50\n",
        "  for sparsity in sparsities:\n",
        "        start = time()\n",
        "        test(generate_random_graph(size, sparsity))\n",
        "        print(f\"Time {size} vertices and sparsity {sparsity} is {time() - start}s\")\n",
        "\n"
      ],
      "metadata": {
        "colab": {
          "base_uri": "https://localhost:8080/"
        },
        "id": "K91EAKM13I2W",
        "outputId": "4c2891ec-4a30-4cb7-e2f4-04deb4c06729"
      },
      "execution_count": 71,
      "outputs": [
        {
          "output_type": "stream",
          "name": "stdout",
          "text": [
            "[1, 1, 1.0, 1]\n",
            "312 µs ± 12 µs per loop (mean ± std. dev. of 7 runs, 1000 loops each)\n",
            "182 µs ± 27.6 µs per loop (mean ± std. dev. of 7 runs, 10000 loops each)\n",
            "420 µs ± 130 µs per loop (mean ± std. dev. of 7 runs, 1000 loops each)\n",
            "331 µs ± 140 µs per loop (mean ± std. dev. of 7 runs, 1000 loops each)\n",
            "Time taken to create a graph with 100 vertices and sparsity 99 is 24.25016164779663s\n",
            "[0, 0, 0.0, 0]\n",
            "198 µs ± 8.17 µs per loop (mean ± std. dev. of 7 runs, 1000 loops each)\n",
            "169 µs ± 27.4 µs per loop (mean ± std. dev. of 7 runs, 10000 loops each)\n",
            "316 µs ± 7.48 µs per loop (mean ± std. dev. of 7 runs, 1000 loops each)\n",
            "227 µs ± 12.4 µs per loop (mean ± std. dev. of 7 runs, 1000 loops each)\n",
            "Time taken to create a graph with 100 vertices and sparsity 1 is 20.2457115650177s\n",
            "[0, 0, 0.0, 0]\n",
            "254 µs ± 48.1 µs per loop (mean ± std. dev. of 7 runs, 1000 loops each)\n",
            "259 µs ± 18 µs per loop (mean ± std. dev. of 7 runs, 1000 loops each)\n",
            "300 µs ± 8.72 µs per loop (mean ± std. dev. of 7 runs, 1000 loops each)\n",
            "202 µs ± 5.5 µs per loop (mean ± std. dev. of 7 runs, 1000 loops each)\n",
            "Time taken to create a graph with 100 vertices and sparsity 50 is 8.613147020339966s\n",
            "[0, 0, 0.0, 0]\n",
            "1.08 ms ± 154 µs per loop (mean ± std. dev. of 7 runs, 1000 loops each)\n",
            "274 µs ± 8.86 µs per loop (mean ± std. dev. of 7 runs, 1000 loops each)\n",
            "443 µs ± 8.01 µs per loop (mean ± std. dev. of 7 runs, 1000 loops each)\n",
            "335 µs ± 9.93 µs per loop (mean ± std. dev. of 7 runs, 1000 loops each)\n",
            "Time taken to create a graph with 1000 vertices and sparsity 999 is 17.929588556289673s\n",
            "[0, 0, 0.0, 0]\n",
            "271 µs ± 63.2 µs per loop (mean ± std. dev. of 7 runs, 1000 loops each)\n",
            "254 µs ± 22.9 µs per loop (mean ± std. dev. of 7 runs, 1000 loops each)\n",
            "307 µs ± 9.15 µs per loop (mean ± std. dev. of 7 runs, 1000 loops each)\n",
            "231 µs ± 11 µs per loop (mean ± std. dev. of 7 runs, 1000 loops each)\n",
            "Time taken to create a graph with 1000 vertices and sparsity 1 is 8.813486337661743s\n",
            "[0, 0, 0.0, 0]\n",
            "481 µs ± 26.6 µs per loop (mean ± std. dev. of 7 runs, 1000 loops each)\n",
            "257 µs ± 57.1 µs per loop (mean ± std. dev. of 7 runs, 1000 loops each)\n",
            "493 µs ± 107 µs per loop (mean ± std. dev. of 7 runs, 1000 loops each)\n",
            "291 µs ± 6.76 µs per loop (mean ± std. dev. of 7 runs, 1000 loops each)\n",
            "Time taken to create a graph with 1000 vertices and sparsity 500 is 12.815251350402832s\n",
            "[4, 4, 4.0, 4]\n",
            "4.84 ms ± 792 µs per loop (mean ± std. dev. of 7 runs, 100 loops each)\n",
            "866 µs ± 158 µs per loop (mean ± std. dev. of 7 runs, 1000 loops each)\n",
            "1.22 ms ± 277 µs per loop (mean ± std. dev. of 7 runs, 1000 loops each)\n",
            "861 µs ± 38.6 µs per loop (mean ± std. dev. of 7 runs, 1000 loops each)\n",
            "Time taken to create a graph with 5000 vertices and sparsity 4999 is 30.176607608795166s\n",
            "[0, 0, 0.0, 0]\n",
            "207 µs ± 12.6 µs per loop (mean ± std. dev. of 7 runs, 1000 loops each)\n",
            "164 µs ± 32 µs per loop (mean ± std. dev. of 7 runs, 10000 loops each)\n",
            "461 µs ± 72.2 µs per loop (mean ± std. dev. of 7 runs, 1000 loops each)\n",
            "234 µs ± 10.9 µs per loop (mean ± std. dev. of 7 runs, 1000 loops each)\n",
            "Time taken to create a graph with 5000 vertices and sparsity 1 is 21.39718246459961s\n",
            "[0, 0, 0.0, 0]\n",
            "1.84 ms ± 212 µs per loop (mean ± std. dev. of 7 runs, 1000 loops each)\n",
            "526 µs ± 5.94 µs per loop (mean ± std. dev. of 7 runs, 1000 loops each)\n",
            "924 µs ± 158 µs per loop (mean ± std. dev. of 7 runs, 1000 loops each)\n",
            "680 µs ± 20.5 µs per loop (mean ± std. dev. of 7 runs, 1000 loops each)\n",
            "Time taken to create a graph with 5000 vertices and sparsity 2500 is 33.501309394836426s\n",
            "[0, 0, 0.0, 0]\n",
            "9.22 ms ± 106 µs per loop (mean ± std. dev. of 7 runs, 100 loops each)\n",
            "1.47 ms ± 87 µs per loop (mean ± std. dev. of 7 runs, 1000 loops each)\n",
            "2.11 ms ± 264 µs per loop (mean ± std. dev. of 7 runs, 1000 loops each)\n",
            "1.72 ms ± 232 µs per loop (mean ± std. dev. of 7 runs, 1000 loops each)\n",
            "Time taken to create a graph with 10000 vertices and sparsity 9999 is 58.3911030292511s\n",
            "[0, 0, 0.0, 0]\n",
            "212 µs ± 36.5 µs per loop (mean ± std. dev. of 7 runs, 10000 loops each)\n",
            "167 µs ± 30.2 µs per loop (mean ± std. dev. of 7 runs, 10000 loops each)\n",
            "437 µs ± 94.2 µs per loop (mean ± std. dev. of 7 runs, 1000 loops each)\n",
            "237 µs ± 26.2 µs per loop (mean ± std. dev. of 7 runs, 1000 loops each)\n",
            "Time taken to create a graph with 10000 vertices and sparsity 1 is 37.20747423171997s\n",
            "[3, 3, 3.0, 3]\n",
            "2.87 ms ± 45.5 µs per loop (mean ± std. dev. of 7 runs, 100 loops each)\n",
            "1.1 ms ± 174 µs per loop (mean ± std. dev. of 7 runs, 1000 loops each)\n",
            "1.45 ms ± 210 µs per loop (mean ± std. dev. of 7 runs, 1000 loops each)\n",
            "1.14 ms ± 10.4 µs per loop (mean ± std. dev. of 7 runs, 1000 loops each)\n",
            "Time taken to create a graph with 10000 vertices and sparsity 5000 is 34.33094787597656s\n",
            "[1, 1, 1.0, 1]\n",
            "121 ms ± 40.7 ms per loop (mean ± std. dev. of 7 runs, 10 loops each)\n",
            "11.5 ms ± 546 µs per loop (mean ± std. dev. of 7 runs, 10 loops each)\n",
            "16.2 ms ± 4.59 ms per loop (mean ± std. dev. of 7 runs, 100 loops each)\n",
            "10.5 ms ± 91.1 µs per loop (mean ± std. dev. of 7 runs, 100 loops each)\n",
            "Time taken to create a graph with 99999 vertices and sparsity 99998 is 388.26004433631897s\n",
            "[0, 0, 0.0, 0]\n",
            "210 µs ± 38.6 µs per loop (mean ± std. dev. of 7 runs, 10000 loops each)\n",
            "166 µs ± 36.2 µs per loop (mean ± std. dev. of 7 runs, 10000 loops each)\n",
            "298 µs ± 14.3 µs per loop (mean ± std. dev. of 7 runs, 1000 loops each)\n",
            "239 µs ± 12.5 µs per loop (mean ± std. dev. of 7 runs, 1000 loops each)\n",
            "Time taken to create a graph with 99999 vertices and sparsity 1 is 37.05366659164429s\n",
            "[0, 0, 0.0, 0]\n",
            "24.1 ms ± 1.57 ms per loop (mean ± std. dev. of 7 runs, 10 loops each)\n",
            "9.55 ms ± 4.61 ms per loop (mean ± std. dev. of 7 runs, 100 loops each)\n",
            "8.95 ms ± 102 µs per loop (mean ± std. dev. of 7 runs, 100 loops each)\n",
            "9.84 ms ± 2.16 ms per loop (mean ± std. dev. of 7 runs, 100 loops each)\n",
            "Time taken to create a graph with 99999 vertices and sparsity 49999 is 180.7091646194458s\n"
          ]
        }
      ]
    },
    {
      "cell_type": "code",
      "source": [
        "sizes = [100,1000, 5000, 10000, 99999]\n",
        "\n",
        "for size in sizes:\n",
        "  sparsities = [size - 1, 10, size // 2] #неразреженная матрица, разреженная, и 50/50\n",
        "  for sparsity in sparsities:\n",
        "        start = time()\n",
        "        test(generate_random_graph(size, sparsity))\n",
        "        print(f\"Time {size} vertices and sparsity {sparsity} is {time() - start}s\")"
      ],
      "metadata": {
        "colab": {
          "base_uri": "https://localhost:8080/"
        },
        "id": "g-QQYS8S-2tG",
        "outputId": "39a91fa1-209d-49ea-c3f5-5f3f09bc0ba7"
      },
      "execution_count": 75,
      "outputs": [
        {
          "output_type": "stream",
          "name": "stdout",
          "text": [
            "[2, 2, 2.0, 2]\n",
            "314 µs ± 9.28 µs per loop (mean ± std. dev. of 7 runs, 1000 loops each)\n",
            "179 µs ± 35.2 µs per loop (mean ± std. dev. of 7 runs, 10000 loops each)\n",
            "311 µs ± 12.7 µs per loop (mean ± std. dev. of 7 runs, 1000 loops each)\n",
            "213 µs ± 10.8 µs per loop (mean ± std. dev. of 7 runs, 1000 loops each)\n",
            "Time 100 vertices and sparsity 99 is 23.34737539291382s\n",
            "[0, 0, 0.0, 0]\n",
            "212 µs ± 32.7 µs per loop (mean ± std. dev. of 7 runs, 10000 loops each)\n",
            "156 µs ± 32.2 µs per loop (mean ± std. dev. of 7 runs, 10000 loops each)\n",
            "413 µs ± 89.7 µs per loop (mean ± std. dev. of 7 runs, 1000 loops each)\n",
            "232 µs ± 32.8 µs per loop (mean ± std. dev. of 7 runs, 1000 loops each)\n",
            "Time 100 vertices and sparsity 10 is 36.44877052307129s\n",
            "[0, 0, 0.0, 0]\n",
            "222 µs ± 14.1 µs per loop (mean ± std. dev. of 7 runs, 1000 loops each)\n",
            "165 µs ± 30 µs per loop (mean ± std. dev. of 7 runs, 10000 loops each)\n",
            "296 µs ± 14.2 µs per loop (mean ± std. dev. of 7 runs, 1000 loops each)\n",
            "200 µs ± 7.55 µs per loop (mean ± std. dev. of 7 runs, 1000 loops each)\n",
            "Time 100 vertices and sparsity 50 is 19.788004398345947s\n",
            "[3, 3, 3.0, 3]\n",
            "1.1 ms ± 143 µs per loop (mean ± std. dev. of 7 runs, 1000 loops each)\n",
            "272 µs ± 7.43 µs per loop (mean ± std. dev. of 7 runs, 1000 loops each)\n",
            "490 µs ± 80.5 µs per loop (mean ± std. dev. of 7 runs, 1000 loops each)\n",
            "439 µs ± 97.6 µs per loop (mean ± std. dev. of 7 runs, 1000 loops each)\n",
            "Time 1000 vertices and sparsity 999 is 19.061622381210327s\n",
            "[0, 0, 0.0, 0]\n",
            "203 µs ± 5.93 µs per loop (mean ± std. dev. of 7 runs, 1000 loops each)\n",
            "173 µs ± 29 µs per loop (mean ± std. dev. of 7 runs, 10000 loops each)\n",
            "306 µs ± 13.7 µs per loop (mean ± std. dev. of 7 runs, 1000 loops each)\n",
            "224 µs ± 8.64 µs per loop (mean ± std. dev. of 7 runs, 1000 loops each)\n",
            "Time 1000 vertices and sparsity 10 is 20.41719150543213s\n",
            "[1, 1, 1.0, 1]\n",
            "628 µs ± 98.9 µs per loop (mean ± std. dev. of 7 runs, 1000 loops each)\n",
            "232 µs ± 5.4 µs per loop (mean ± std. dev. of 7 runs, 1000 loops each)\n",
            "418 µs ± 4.85 µs per loop (mean ± std. dev. of 7 runs, 1000 loops each)\n",
            "307 µs ± 9.23 µs per loop (mean ± std. dev. of 7 runs, 1000 loops each)\n",
            "Time 1000 vertices and sparsity 500 is 13.114421129226685s\n",
            "[3, 3, 3.0, 3]\n",
            "4.72 ms ± 610 µs per loop (mean ± std. dev. of 7 runs, 100 loops each)\n",
            "768 µs ± 69.8 µs per loop (mean ± std. dev. of 7 runs, 1000 loops each)\n",
            "1.15 ms ± 174 µs per loop (mean ± std. dev. of 7 runs, 1000 loops each)\n",
            "847 µs ± 41.7 µs per loop (mean ± std. dev. of 7 runs, 1000 loops each)\n",
            "Time 5000 vertices and sparsity 4999 is 27.74985933303833s\n",
            "[0, 0, 0.0, 0]\n",
            "325 µs ± 23.8 µs per loop (mean ± std. dev. of 7 runs, 1000 loops each)\n",
            "168 µs ± 28.6 µs per loop (mean ± std. dev. of 7 runs, 10000 loops each)\n",
            "299 µs ± 9.26 µs per loop (mean ± std. dev. of 7 runs, 1000 loops each)\n",
            "227 µs ± 8.74 µs per loop (mean ± std. dev. of 7 runs, 1000 loops each)\n",
            "Time 5000 vertices and sparsity 10 is 21.071941375732422s\n",
            "[0, 0, 0.0, 0]\n",
            "1.86 ms ± 369 µs per loop (mean ± std. dev. of 7 runs, 1000 loops each)\n",
            "528 µs ± 22.9 µs per loop (mean ± std. dev. of 7 runs, 1000 loops each)\n",
            "891 µs ± 138 µs per loop (mean ± std. dev. of 7 runs, 1000 loops each)\n",
            "684 µs ± 38.1 µs per loop (mean ± std. dev. of 7 runs, 1000 loops each)\n",
            "Time 5000 vertices and sparsity 2500 is 33.15209889411926s\n",
            "[0, 0, 0.0, 0]\n",
            "8.11 ms ± 130 µs per loop (mean ± std. dev. of 7 runs, 100 loops each)\n",
            "1.98 ms ± 519 µs per loop (mean ± std. dev. of 7 runs, 1000 loops each)\n",
            "1.98 ms ± 336 µs per loop (mean ± std. dev. of 7 runs, 100 loops each)\n",
            "1.9 ms ± 141 µs per loop (mean ± std. dev. of 7 runs, 1000 loops each)\n",
            "Time 10000 vertices and sparsity 9999 is 46.51574945449829s\n",
            "[0, 0, 0.0, 0]\n",
            "308 µs ± 121 µs per loop (mean ± std. dev. of 7 runs, 1000 loops each)\n",
            "168 µs ± 37.1 µs per loop (mean ± std. dev. of 7 runs, 10000 loops each)\n",
            "346 µs ± 63.8 µs per loop (mean ± std. dev. of 7 runs, 1000 loops each)\n",
            "344 µs ± 80.1 µs per loop (mean ± std. dev. of 7 runs, 1000 loops each)\n",
            "Time 10000 vertices and sparsity 10 is 22.469419240951538s\n",
            "[0, 0, 0.0, 0]\n",
            "2.82 ms ± 35.3 µs per loop (mean ± std. dev. of 7 runs, 100 loops each)\n",
            "1.04 ms ± 239 µs per loop (mean ± std. dev. of 7 runs, 1000 loops each)\n",
            "1.47 ms ± 194 µs per loop (mean ± std. dev. of 7 runs, 1000 loops each)\n",
            "1.1 ms ± 11.1 µs per loop (mean ± std. dev. of 7 runs, 1000 loops each)\n",
            "Time 10000 vertices and sparsity 5000 is 34.02532720565796s\n",
            "[1, 1, 1.0, 1]\n",
            "114 ms ± 56.1 ms per loop (mean ± std. dev. of 7 runs, 10 loops each)\n",
            "14.1 ms ± 5.99 ms per loop (mean ± std. dev. of 7 runs, 100 loops each)\n",
            "19.7 ms ± 6.85 ms per loop (mean ± std. dev. of 7 runs, 100 loops each)\n",
            "13.7 ms ± 6.6 ms per loop (mean ± std. dev. of 7 runs, 100 loops each)\n",
            "Time 99999 vertices and sparsity 99998 is 398.8938090801239s\n",
            "[0, 0, 0.0, 0]\n",
            "197 µs ± 6.36 µs per loop (mean ± std. dev. of 7 runs, 1000 loops each)\n",
            "168 µs ± 27.1 µs per loop (mean ± std. dev. of 7 runs, 10000 loops each)\n",
            "300 µs ± 7.6 µs per loop (mean ± std. dev. of 7 runs, 1000 loops each)\n",
            "368 µs ± 23.5 µs per loop (mean ± std. dev. of 7 runs, 1000 loops each)\n",
            "Time 99999 vertices and sparsity 10 is 21.108710527420044s\n",
            "[0, 0, 0.0, 0]\n",
            "25.4 ms ± 1.65 ms per loop (mean ± std. dev. of 7 runs, 10 loops each)\n",
            "9.8 ms ± 4.79 ms per loop (mean ± std. dev. of 7 runs, 100 loops each)\n",
            "12.4 ms ± 5.24 ms per loop (mean ± std. dev. of 7 runs, 100 loops each)\n",
            "8.65 ms ± 130 µs per loop (mean ± std. dev. of 7 runs, 100 loops each)\n",
            "Time 99999 vertices and sparsity 49999 is 177.29795169830322s\n"
          ]
        }
      ]
    },
    {
      "cell_type": "markdown",
      "source": [
        "Вывод:\n",
        "\n",
        "Для неразреженных матриц хуже всего наивный и Сohen's algorithm, лучше всего наивный с маской, и чуть похуже, но также хорош - Sandia algorithm\n",
        "\n",
        "Для разреженных матриц: лучше всего наивный с маской, худший - Сohen's algorithm\n"
      ],
      "metadata": {
        "id": "IfT3ObYx_yCv"
      }
    }
  ]
}